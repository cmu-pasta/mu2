{
 "cells": [
  {
   "cell_type": "code",
   "execution_count": 1,
   "id": "d1458133-7452-4375-a26e-35278fe9575b",
   "metadata": {},
   "outputs": [],
   "source": [
    "from matplotlib_venn import venn2\n",
    "from scipy import stats\n",
    "from collections import defaultdict\n",
    "from IPython.display import display, Markdown\n",
    "import matplotlib.pyplot as plt\n",
    "import matplotlib\n",
    "import numpy as np\n",
    "import argparse\n",
    "import seaborn as sns\n",
    "import os\n",
    "import math\n",
    "import pandas as pd\n",
    "\n",
    "COVERAGE_MAP = {\n",
    "    \"ChocoPy\": [\"chocopy.reference.semantic\"],\n",
    "    \"Gson\": [\"com.google.gson\"],\n",
    "    \"Jackson\": [\"com.fasterxml.jackson.databind.json\", \"com.fasterxml.jackson.core.json\"],\n",
    "    \"Tomcat\": [\"org.apache.tomcat.util.descriptor\", \"org.apache.tomcat.util.digester\"],\n",
    "    \"Closure\": [\"com.google.javascript.jscomp\"]\n",
    "}\n",
    "\n",
    "TECHS = [(\"zest\", \"Zest\"), \n",
    "          (\"mutate\", \"Mu2\"), \n",
    "          (\"mutate-time-constrained\", \"Mu2\"),\n",
    "          (\"mutate-no-save\", \"Mu2NoSave\")]\n",
    "\n",
    "TECH_NAMES = [\"Zest\", \"Zest*\", \"Mu2 (fixed trials)\", \"Mu2 (fixed time)\"]"
   ]
  },
  {
   "cell_type": "code",
   "execution_count": 2,
   "id": "6e497de7-5415-4ca1-90dd-c1e3b11dce41",
   "metadata": {},
   "outputs": [],
   "source": [
    "def get_killed_mutants(file_name, exp_num, alg, mutant_killed_map, fuzz_results_dir):\n",
    "    with open(file_name, \"r\") as f:\n",
    "        lines = f.readlines()\n",
    "\n",
    "    i = 0\n",
    "    killed_mutants = set()\n",
    "    seen_mutants = set()\n",
    "    while i < len(lines):\n",
    "        if \"Running Mutant\" in lines[i]:\n",
    "            killed = False\n",
    "            mutant_name = lines[i][lines[i].index(\"Mutant\"):].strip()\n",
    "            seen_mutants.add(mutant_name)\n",
    "            i += 1\n",
    "            while i < len(lines) and \"Running Mutant\" not in lines[i]:\n",
    "                if \"FAILURE\" in lines[i]:\n",
    "                    input_name = lines[i].split(\"input\")[1].strip()\n",
    "                    input_num = input_name[:input_name.index(\":\")]\n",
    "                    killed = True\n",
    "                i += 1\n",
    "        if killed:\n",
    "            killed_mutants.add(mutant_name)\n",
    "            input_name = \"id_\" + '0' * (6 - len(input_num)) + input_num + \".0\"\n",
    "            input_file_name = os.path.join(fuzz_results_dir, \"tmp%s/exp_%d/args_corpus/%s\" % (alg, exp_num, input_name))\n",
    "            mutant_killed_map[mutant_name].append(input_file_name)\n",
    "    return killed_mutants, seen_mutants\n",
    "\n",
    "def get_unique(zest_killed, mutate_killed):\n",
    "\n",
    "    zest_uniq = zest_killed - mutate_killed\n",
    "    mutate_uniq = mutate_killed - zest_killed\n",
    "    both_found = zest_killed.intersection(mutate_killed)\n",
    "\n",
    "    return zest_uniq, mutate_uniq, both_found\n",
    "\n",
    "def get_coverage(cov_file, target_name):\n",
    "    cov_df = pd.read_csv(cov_file)\n",
    "    cov_df = cov_df[cov_df[\"PACKAGE\"].apply(lambda x: any(y in x for y in COVERAGE_MAP[target_name]))]\n",
    "    cov_df[\"BRANCH_TOTAL\"] = cov_df[\"BRANCH_COVERED\"] + cov_df[\"BRANCH_MISSED\"]\n",
    "    cov_df = cov_df[[\"PACKAGE\", \"BRANCH_COVERED\", \"BRANCH_TOTAL\"]]\n",
    "    return cov_df\n",
    "    \n",
    "    \n",
    "\n",
    "def display_mutants(mutant_list, url, mutant_killed_map, display_inputs=False):\n",
    "    for mutant in sorted(mutant_list):\n",
    "        inputs = mutant_killed_map[mutant]\n",
    "        line = mutant.split(\":\")[-1][:-1]\n",
    "        filename = mutant[mutant.index(\"(\") + 1:mutant.index(\".java:\") + 5]\n",
    "        line_url = url + filename + \"#\" + line\n",
    "        display_markdown(\"[{}]({})\".format(mutant, line_url))\n",
    "        if display_inputs:\n",
    "            for input_file in mutant_killed_map[mutant]:\n",
    "                with open(input_file, \"r\") as f:\n",
    "                    # print(input_file)\n",
    "                    print(f.read() + \"\\n--------------------------------------------------------------------\\n\")\n",
    "\n",
    "def display_markdown(string):\n",
    "    display(Markdown(string))\n",
    "    \n",
    "def display_comparison_table(union1, union2, intersect1, intersect2, tech1, tech2, url, mutant_killed_map, display_muts=False):\n",
    "        \n",
    "    table = \"| Any {tech1}, No {tech2} | Any {tech2}, No {tech1} | All {tech1}, No {tech2} | All {tech2}, No {tech1} | \\n | --- | --- | --- | --- | \\n | {count1} | {count2} | {count3} | {count4} |\".format(\n",
    "        tech1=tech1,\n",
    "        tech2=tech2,\n",
    "        count1=len(union1 - union2),\n",
    "        count2=len(union2 - union1),\n",
    "        count3=len(intersect1 - union2),\n",
    "        count4=len(intersect2 - union1))\n",
    "    display_markdown(table)\n",
    "    \n",
    "    if display_muts:\n",
    "        display_markdown(\"Mutants killed by any {tech1} and not any {tech2}:\".format(tech1=tech1, tech2=tech2))\n",
    "        display_mutants(list(union1 - union2), url, mutant_killed_map, False)\n",
    "        display_markdown(\"Mutants killed by all {tech1} and not any {tech2}:\".format(tech1=tech1, tech2=tech2))\n",
    "        display_mutants(list(intersect1 - union2), url, mutant_killed_map, False)\n",
    "        display_markdown(\"Mutants killed by any {tech2} and not any {tech1}:\".format(tech1=tech1, tech2=tech2))\n",
    "        display_mutants(list(union2 - union1), url, mutant_killed_map, False)\n",
    "        display_markdown(\"Mutants killed by all {tech2} and not any {tech1}:\".format(tech1=tech1, tech2=tech2))\n",
    "        display_mutants(list(intersect2 - union1), url, mutant_killed_map, False)\n",
    "    \n",
    "def plot_killed_freq(list_sets, list_techs, target_name, filter_equal=False):\n",
    "    \n",
    "    all_killed_mutants = sorted(list(set.union(*(sum(list_sets, [])))))\n",
    "    num_experiments = len(list_sets[0])\n",
    "    list_set_frequency = []\n",
    "    list_set_filtered = []\n",
    "    list_hist = []\n",
    "    \n",
    "    for s in list_sets:\n",
    "        \n",
    "        set_killed_freq = [sum([x in killed_set for killed_set in s]) / num_experiments for x in all_killed_mutants]\n",
    "        list_set_frequency.append(set_killed_freq)\n",
    "\n",
    "    indices = [i for i in range(len(all_killed_mutants)) if any([s[i] < 1 for s in list_set_frequency])]\n",
    "    all_filtered = [all_killed_mutants[i] for i in indices]\n",
    "    \n",
    "    for s in list_set_frequency:\n",
    "        list_set_filtered.append(np.array([s[i] for i in indices]))\n",
    "\n",
    "    freq_df = pd.DataFrame(\n",
    "        dict(zip(list_techs, list_set_filtered))\n",
    "    )\n",
    "    \n",
    "\n",
    "    sns.set(rc = {'figure.figsize':(10,8)})\n",
    "\n",
    "    sns.set(font_scale=1.8)\n",
    "    sns.violinplot(data=freq_df)\n",
    "    plt.title(\"%s Killed Mutants\" % target_name, fontdict={'fontsize': 24})\n",
    "    plt.xlabel(\"Technique\", fontdict={'fontsize': 20})\n",
    "    plt.ylabel(\"Percentage Killed\", fontdict={'fontsize': 20})\n",
    "    plt.ylim(0, 1)\n",
    "    plt.tight_layout()\n",
    "\n",
    "    # plt.show()\n",
    "    # plt.savefig(\"violin.pdf\")\n",
    "    \n",
    "    diff_filtered1 = list_set_filtered[2] - list_set_filtered[0]\n",
    "    diff_filtered2 = list_set_filtered[3] - list_set_filtered[0]\n",
    "    diff_filtered3 = list_set_filtered[2] - list_set_filtered[1]\n",
    "    display_markdown(\"Average Mu2 percent improvement over Zest baseline over %d mutants: %f\" % (len(all_filtered), np.mean(diff_filtered1)))\n",
    "    display_markdown(\"Average Mu2 (time-constrained) percent improvement over Zest baseline over %d mutants: %f\" % (len(all_filtered), np.mean(diff_filtered2)))\n",
    "    display_markdown(\"Average Mu2 percent improvement over Mu2NoSave baseline over %d mutants: %f\" % (len(all_filtered), np.mean(diff_filtered3)))\n",
    "\n",
    "    display_markdown(\"MWU test between Zest and Mu2: pvalue=%f\" % stats.mannwhitneyu(list_set_filtered[0], list_set_filtered[2]).pvalue)\n",
    "    display_markdown(\"MWU test between Zest and Mu2 time constrained: pvalue=%f\" % stats.mannwhitneyu(list_set_filtered[0], list_set_filtered[3]).pvalue)\n",
    "    display_markdown(\"MWU test between Mu2 and Mu2NoSave: pvalue=%f\" % stats.mannwhitneyu(list_set_filtered[1], list_set_filtered[2]).pvalue)\n",
    "\n",
    "\n",
    "def get_coverage_df(list_techs, list_coverage, target_name):\n",
    "    cov_df = pd.DataFrame(\n",
    "        dict(zip(list_techs, list_coverage))\n",
    "    )\n",
    "    rows = []\n",
    "    zest_cov_mean = list_coverage[list_techs.index(\"Zest\")].mean()\n",
    "    for i in range(len(list_coverage)):\n",
    "        if list_techs[i] == \"Zest*\":\n",
    "            continue\n",
    "        for j in range(len(list_coverage[i])):\n",
    "            rows.append([j, list_techs[i], target_name, list_coverage[i][j]])\n",
    "            # rows.append([j, list_techs[i], target_name, list_coverage[i][j] * 1.0 / zest_cov_mean])\n",
    "    cov_df = pd.DataFrame(rows, columns=[\"Experiment\", \"Technique\", \"Target\", \"Coverage\"])\n",
    "\n",
    "    display_markdown(\"T-test between Zest and Mu2 coverage: pvalue=%f\" % stats.ttest_ind(list_coverage[0], list_coverage[2]).pvalue)\n",
    "    display_markdown(\"T-test between Zest and Mu2 time constrained coverage: pvalue=%f\" % stats.ttest_ind(list_coverage[0], list_coverage[3]).pvalue)\n",
    "    display_markdown(\"T-test between Mu2 and Mu2NoSave coverage: pvalue=%f\" % stats.ttest_ind(list_coverage[1], list_coverage[2]).pvalue)\n",
    "    \n",
    "    for i in range(len(list_techs)):\n",
    "        if list_techs[i] == \"Zest*\":\n",
    "            continue\n",
    "        print(\"%s: %f +- %f\" % (list_techs[i], np.mean(list_coverage[i]), np.std(list_coverage[i])))\n",
    "    return cov_df"
   ]
  },
  {
   "cell_type": "code",
   "execution_count": 8,
   "id": "8eeacd7e-c890-4a2e-849d-d5d297d8eb05",
   "metadata": {},
   "outputs": [],
   "source": [
    "def display_benchmark(target_name, filters_dir, fuzz_results_dir, cov_dir, url, num_experiments):\n",
    "    mutant_killed_map = defaultdict(list)\n",
    "    \n",
    "    display_markdown(\"## {} Mu2 Experiments\".format(target_name))\n",
    "            \n",
    "    union_all = {}\n",
    "    union_seen_all = {}\n",
    "    intersection_all = {}\n",
    "    killed_all = {}\n",
    "    num_killed_all = {}\n",
    "    \n",
    "    coverage_all = {}\n",
    "\n",
    "    for tech, tech_dir in TECHS:\n",
    "        \n",
    "        all_killed_mutants = []\n",
    "        all_seen_mutants = []\n",
    "        total_cov = []\n",
    "    \n",
    "        for i in range(1, num_experiments + 1):\n",
    "            killed_mutants, seen_mutants = get_killed_mutants(os.path.join(filters_dir, \"{}-filter-{}.txt\".format(tech, i)), i, tech_dir, mutant_killed_map, fuzz_results_dir)\n",
    "            all_killed_mutants.append(killed_mutants)\n",
    "            all_seen_mutants.append(seen_mutants)\n",
    "            cov = get_coverage(os.path.join(cov_dir, \"{}-coverage-{}.csv\".format(tech, i)), target_name)\n",
    "            total_cov.append(cov[\"BRANCH_COVERED\"].sum())\n",
    "\n",
    "        \n",
    "        num_killed_mutants= [len(x) for x in all_killed_mutants]\n",
    "        killed_stats = stats.describe(num_killed_mutants)\n",
    "        # display_markdown(\"**{} Mutant Killed Summary**: \".format(tech))\n",
    "        # display_markdown(\"Experiments: %d\" % killed_stats.nobs)\n",
    "        # display_markdown(\"Mean: %f\" % killed_stats.mean)\n",
    "        # display_markdown(\"Stddev: %f\" % np.sqrt(killed_stats.variance))\n",
    "                                           \n",
    "        union_all[tech] = set.union(*all_killed_mutants)\n",
    "        intersection_all[tech] = set.intersection(*all_killed_mutants)\n",
    "        coverage_all[tech] = total_cov\n",
    "        killed_all[tech] = all_killed_mutants\n",
    "        union_seen_all[tech] = set.union(*all_seen_mutants) \n",
    "        num_killed_all[tech] = num_killed_mutants\n",
    "    \n",
    "#     display_markdown(\"T-test between Zest and Mu2: pvalue=%f\" % stats.ttest_ind(num_killed_all[\"zest\"], num_killed_all[\"mutate\"]).pvalue)\n",
    "#     display_markdown(\"T-test between Zest and Mu2 time constrained: pvalue=%f\" % stats.ttest_ind(num_killed_all[\"zest\"], num_killed_all[\"mutate-time-constrained\"]).pvalue)\n",
    "#     display_markdown(\"T-test between Mu2 and Mu2NoSave: pvalue=%f\" % stats.ttest_ind(num_killed_all[\"mutate\"], num_killed_all[\"mutate-no-save\"]).pvalue)\n",
    "\n",
    "#     display_markdown(\"**Mutant Killing Frequency**\")\n",
    "\n",
    "#     plot_killed_freq([killed_all[\"zest\"], killed_all[\"mutate-no-save\"], killed_all[\"mutate\"], killed_all[\"mutate-time-constrained\"]], TECH_NAMES, target_name)\n",
    "\n",
    "    \n",
    "    techs, coverages = zip(*coverage_all.items())\n",
    "    cov_df = get_coverage_df(TECH_NAMES, np.array([coverage_all[\"zest\"], coverage_all[\"mutate-no-save\"], coverage_all[\"mutate\"], coverage_all[\"mutate-time-constrained\"]]), target_name)\n",
    "    cov_df[\"Target\"] = target_name\n",
    "    display_markdown(\"**Mutant Comparison Table Zest vs Mu2**(same trials): \")\n",
    "    \n",
    "    display_markdown(\"Total seen mutants: %d\" % len(set.union(union_seen_all[\"zest\"], union_seen_all[\"mutate\"])))\n",
    "    display_markdown(\"Total killed mutants: %d\" % len(set.union(union_all[\"zest\"], union_all[\"mutate\"])))\n",
    "\n",
    "                               \n",
    "    display_comparison_table(union_all[\"zest\"], union_all[\"mutate\"], intersection_all[\"zest\"], intersection_all[\"mutate\"], \"Zest\", \"Mu2\",\n",
    "                            url, mutant_killed_map, True)\n",
    "\n",
    "    display_markdown(\"**Mutant Comparison Table Zest vs Mu2Time**(same time): \")\n",
    "    display_comparison_table(union_all[\"zest\"], union_all[\"mutate-time-constrained\"], intersection_all[\"zest\"], intersection_all[\"mutate-time-constrained\"], \"Zest\", \"Mu2\",\n",
    "                            url, mutant_killed_map, False)    \n",
    "\n",
    "    display_markdown(\"Total seen mutants: %d\" % len(set.union(union_seen_all[\"zest\"], union_seen_all[\"mutate-time-constrained\"])))\n",
    "    display_markdown(\"Total killed mutants: %d\" % len(set.union(union_all[\"zest\"], union_all[\"mutate-time-constrained\"])))\n",
    "    \n",
    "#     display_markdown(\"**Mutant Comparison Table Zest\\* vs Mu2Time**(same time): \")\n",
    "                               \n",
    "#     display_comparison_table(union_all[\"mutate-time-constrained\"], union_all[\"mutate-no-save\"], intersection_all[\"mutate-time-constrained\"], intersection_all[\"mutate-no-save\"], \"Mu2\", \"Mu2NoSave\",\n",
    "#                             url, mutant_killed_map, False)\n",
    "    \n",
    "    display_markdown(\"**Mutant Comparison Table Zest\\* vs Mu2**(same trial): \")\n",
    "                               \n",
    "    display_comparison_table(union_all[\"mutate\"], union_all[\"mutate-no-save\"], intersection_all[\"mutate\"], intersection_all[\"mutate-no-save\"], \"Mu2\", \"Mu2NoSave\",\n",
    "                            url, mutant_killed_map, False)\n",
    "\n",
    "    return cov_df"
   ]
  },
  {
   "cell_type": "code",
   "execution_count": 9,
   "id": "b913e417-6ba4-4856-8542-0a91ba811231",
   "metadata": {
    "tags": []
   },
   "outputs": [
    {
     "data": {
      "text/markdown": [
       "# Mu2 Three Hour Experiments"
      ],
      "text/plain": [
       "<IPython.core.display.Markdown object>"
      ]
     },
     "metadata": {},
     "output_type": "display_data"
    },
    {
     "data": {
      "text/markdown": [
       "## ChocoPy Mu2 Experiments"
      ],
      "text/plain": [
       "<IPython.core.display.Markdown object>"
      ]
     },
     "metadata": {},
     "output_type": "display_data"
    },
    {
     "data": {
      "text/markdown": [
       "T-test between Zest and Mu2 coverage: pvalue=0.037856"
      ],
      "text/plain": [
       "<IPython.core.display.Markdown object>"
      ]
     },
     "metadata": {},
     "output_type": "display_data"
    },
    {
     "data": {
      "text/markdown": [
       "T-test between Zest and Mu2 time constrained coverage: pvalue=0.080499"
      ],
      "text/plain": [
       "<IPython.core.display.Markdown object>"
      ]
     },
     "metadata": {},
     "output_type": "display_data"
    },
    {
     "data": {
      "text/markdown": [
       "T-test between Mu2 and Mu2NoSave coverage: pvalue=0.428733"
      ],
      "text/plain": [
       "<IPython.core.display.Markdown object>"
      ]
     },
     "metadata": {},
     "output_type": "display_data"
    },
    {
     "name": "stdout",
     "output_type": "stream",
     "text": [
      "Zest: 342.100000 +- 3.858756\n",
      "Mu2 (fixed trials): 344.900000 +- 4.158125\n",
      "Mu2 (fixed time): 344.500000 +- 4.364631\n"
     ]
    },
    {
     "data": {
      "text/markdown": [
       "**Mutant Comparison Table Zest vs Mu2**(same trials): "
      ],
      "text/plain": [
       "<IPython.core.display.Markdown object>"
      ]
     },
     "metadata": {},
     "output_type": "display_data"
    },
    {
     "data": {
      "text/markdown": [
       "Total seen mutants: 406"
      ],
      "text/plain": [
       "<IPython.core.display.Markdown object>"
      ]
     },
     "metadata": {},
     "output_type": "display_data"
    },
    {
     "data": {
      "text/markdown": [
       "Total killed mutants: 302"
      ],
      "text/plain": [
       "<IPython.core.display.Markdown object>"
      ]
     },
     "metadata": {},
     "output_type": "display_data"
    },
    {
     "data": {
      "text/markdown": [
       "| Any Zest, No Mu2 | Any Mu2, No Zest | All Zest, No Mu2 | All Mu2, No Zest | \n",
       " | --- | --- | --- | --- | \n",
       " | 0 | 5 | 0 | 0 |"
      ],
      "text/plain": [
       "<IPython.core.display.Markdown object>"
      ]
     },
     "metadata": {},
     "output_type": "display_data"
    },
    {
     "data": {
      "text/markdown": [
       "Mutants killed by any Zest and not any Mu2:"
      ],
      "text/plain": [
       "<IPython.core.display.Markdown object>"
      ]
     },
     "metadata": {},
     "output_type": "display_data"
    },
    {
     "data": {
      "text/markdown": [
       "Mutants killed by all Zest and not any Mu2:"
      ],
      "text/plain": [
       "<IPython.core.display.Markdown object>"
      ]
     },
     "metadata": {},
     "output_type": "display_data"
    },
    {
     "data": {
      "text/markdown": [
       "Mutants killed by any Mu2 and not any Zest:"
      ],
      "text/plain": [
       "<IPython.core.display.Markdown object>"
      ]
     },
     "metadata": {},
     "output_type": "display_data"
    },
    {
     "data": {
      "text/markdown": [
       "[Mutant chocopy.reference.semantic.DeclarationAnalyzer::IF_EQ_TO_NE::18 (DeclarationAnalyzer.java:L310)](https://github.com/chocopy/chocopy/tree/master/src/main/java/chocopy/reference/semantic/DeclarationAnalyzer.java#L310)"
      ],
      "text/plain": [
       "<IPython.core.display.Markdown object>"
      ]
     },
     "metadata": {},
     "output_type": "display_data"
    },
    {
     "data": {
      "text/markdown": [
       "[Mutant chocopy.reference.semantic.DeclarationAnalyzer::IF_ICMP_GE_TO_GT::4 (DeclarationAnalyzer.java:L310)](https://github.com/chocopy/chocopy/tree/master/src/main/java/chocopy/reference/semantic/DeclarationAnalyzer.java#L310)"
      ],
      "text/plain": [
       "<IPython.core.display.Markdown object>"
      ]
     },
     "metadata": {},
     "output_type": "display_data"
    },
    {
     "data": {
      "text/markdown": [
       "[Mutant chocopy.reference.semantic.DeclarationAnalyzer::IF_ICMP_GE_TO_LT::4 (DeclarationAnalyzer.java:L310)](https://github.com/chocopy/chocopy/tree/master/src/main/java/chocopy/reference/semantic/DeclarationAnalyzer.java#L310)"
      ],
      "text/plain": [
       "<IPython.core.display.Markdown object>"
      ]
     },
     "metadata": {},
     "output_type": "display_data"
    },
    {
     "data": {
      "text/markdown": [
       "[Mutant chocopy.reference.semantic.TypeChecker::IINC_SWAP::1 (TypeChecker.java:L619)](https://github.com/chocopy/chocopy/tree/master/src/main/java/chocopy/reference/semantic/TypeChecker.java#L619)"
      ],
      "text/plain": [
       "<IPython.core.display.Markdown object>"
      ]
     },
     "metadata": {},
     "output_type": "display_data"
    },
    {
     "data": {
      "text/markdown": [
       "[Mutant chocopy.reference.semantic.TypeChecker::I_SUB_TO_ADD::1 (TypeChecker.java:L621)](https://github.com/chocopy/chocopy/tree/master/src/main/java/chocopy/reference/semantic/TypeChecker.java#L621)"
      ],
      "text/plain": [
       "<IPython.core.display.Markdown object>"
      ]
     },
     "metadata": {},
     "output_type": "display_data"
    },
    {
     "data": {
      "text/markdown": [
       "Mutants killed by all Mu2 and not any Zest:"
      ],
      "text/plain": [
       "<IPython.core.display.Markdown object>"
      ]
     },
     "metadata": {},
     "output_type": "display_data"
    },
    {
     "data": {
      "text/markdown": [
       "**Mutant Comparison Table Zest vs Mu2Time**(same time): "
      ],
      "text/plain": [
       "<IPython.core.display.Markdown object>"
      ]
     },
     "metadata": {},
     "output_type": "display_data"
    },
    {
     "data": {
      "text/markdown": [
       "| Any Zest, No Mu2 | Any Mu2, No Zest | All Zest, No Mu2 | All Mu2, No Zest | \n",
       " | --- | --- | --- | --- | \n",
       " | 0 | 5 | 0 | 0 |"
      ],
      "text/plain": [
       "<IPython.core.display.Markdown object>"
      ]
     },
     "metadata": {},
     "output_type": "display_data"
    },
    {
     "data": {
      "text/markdown": [
       "Total seen mutants: 406"
      ],
      "text/plain": [
       "<IPython.core.display.Markdown object>"
      ]
     },
     "metadata": {},
     "output_type": "display_data"
    },
    {
     "data": {
      "text/markdown": [
       "Total killed mutants: 302"
      ],
      "text/plain": [
       "<IPython.core.display.Markdown object>"
      ]
     },
     "metadata": {},
     "output_type": "display_data"
    },
    {
     "data": {
      "text/markdown": [
       "**Mutant Comparison Table Zest\\* vs Mu2**(same trial): "
      ],
      "text/plain": [
       "<IPython.core.display.Markdown object>"
      ]
     },
     "metadata": {},
     "output_type": "display_data"
    },
    {
     "data": {
      "text/markdown": [
       "| Any Mu2, No Mu2NoSave | Any Mu2NoSave, No Mu2 | All Mu2, No Mu2NoSave | All Mu2NoSave, No Mu2 | \n",
       " | --- | --- | --- | --- | \n",
       " | 0 | 0 | 0 | 0 |"
      ],
      "text/plain": [
       "<IPython.core.display.Markdown object>"
      ]
     },
     "metadata": {},
     "output_type": "display_data"
    },
    {
     "data": {
      "text/markdown": [
       "## Gson Mu2 Experiments"
      ],
      "text/plain": [
       "<IPython.core.display.Markdown object>"
      ]
     },
     "metadata": {},
     "output_type": "display_data"
    },
    {
     "data": {
      "text/markdown": [
       "T-test between Zest and Mu2 coverage: pvalue=0.574384"
      ],
      "text/plain": [
       "<IPython.core.display.Markdown object>"
      ]
     },
     "metadata": {},
     "output_type": "display_data"
    },
    {
     "data": {
      "text/markdown": [
       "T-test between Zest and Mu2 time constrained coverage: pvalue=0.001153"
      ],
      "text/plain": [
       "<IPython.core.display.Markdown object>"
      ]
     },
     "metadata": {},
     "output_type": "display_data"
    },
    {
     "data": {
      "text/markdown": [
       "T-test between Mu2 and Mu2NoSave coverage: pvalue=0.477572"
      ],
      "text/plain": [
       "<IPython.core.display.Markdown object>"
      ]
     },
     "metadata": {},
     "output_type": "display_data"
    },
    {
     "name": "stdout",
     "output_type": "stream",
     "text": [
      "Zest: 433.350000 +- 7.087136\n",
      "Mu2 (fixed trials): 434.650000 +- 7.058860\n",
      "Mu2 (fixed time): 426.200000 +- 5.325411\n"
     ]
    },
    {
     "data": {
      "text/markdown": [
       "**Mutant Comparison Table Zest vs Mu2**(same trials): "
      ],
      "text/plain": [
       "<IPython.core.display.Markdown object>"
      ]
     },
     "metadata": {},
     "output_type": "display_data"
    },
    {
     "data": {
      "text/markdown": [
       "Total seen mutants: 412"
      ],
      "text/plain": [
       "<IPython.core.display.Markdown object>"
      ]
     },
     "metadata": {},
     "output_type": "display_data"
    },
    {
     "data": {
      "text/markdown": [
       "Total killed mutants: 309"
      ],
      "text/plain": [
       "<IPython.core.display.Markdown object>"
      ]
     },
     "metadata": {},
     "output_type": "display_data"
    },
    {
     "data": {
      "text/markdown": [
       "| Any Zest, No Mu2 | Any Mu2, No Zest | All Zest, No Mu2 | All Mu2, No Zest | \n",
       " | --- | --- | --- | --- | \n",
       " | 0 | 3 | 0 | 1 |"
      ],
      "text/plain": [
       "<IPython.core.display.Markdown object>"
      ]
     },
     "metadata": {},
     "output_type": "display_data"
    },
    {
     "data": {
      "text/markdown": [
       "Mutants killed by any Zest and not any Mu2:"
      ],
      "text/plain": [
       "<IPython.core.display.Markdown object>"
      ]
     },
     "metadata": {},
     "output_type": "display_data"
    },
    {
     "data": {
      "text/markdown": [
       "Mutants killed by all Zest and not any Mu2:"
      ],
      "text/plain": [
       "<IPython.core.display.Markdown object>"
      ]
     },
     "metadata": {},
     "output_type": "display_data"
    },
    {
     "data": {
      "text/markdown": [
       "Mutants killed by any Mu2 and not any Zest:"
      ],
      "text/plain": [
       "<IPython.core.display.Markdown object>"
      ]
     },
     "metadata": {},
     "output_type": "display_data"
    },
    {
     "data": {
      "text/markdown": [
       "[Mutant com.google.gson.stream.JsonReader::IF_NE_TO_EQ::7 (JsonReader.java:L621)](https://github.com/google/gson/blob/gson-parent-2.8.9/gson/src/main/java/com/google/gson/stream/JsonReader.java#L621)"
      ],
      "text/plain": [
       "<IPython.core.display.Markdown object>"
      ]
     },
     "metadata": {},
     "output_type": "display_data"
    },
    {
     "data": {
      "text/markdown": [
       "[Mutant com.google.gson.stream.JsonReader::I_ADD_TO_SUB::4 (JsonReader.java:L621)](https://github.com/google/gson/blob/gson-parent-2.8.9/gson/src/main/java/com/google/gson/stream/JsonReader.java#L621)"
      ],
      "text/plain": [
       "<IPython.core.display.Markdown object>"
      ]
     },
     "metadata": {},
     "output_type": "display_data"
    },
    {
     "data": {
      "text/markdown": [
       "[Mutant com.google.gson.stream.JsonReader::I_SUB_TO_ADD::11 (JsonReader.java:L542)](https://github.com/google/gson/blob/gson-parent-2.8.9/gson/src/main/java/com/google/gson/stream/JsonReader.java#L542)"
      ],
      "text/plain": [
       "<IPython.core.display.Markdown object>"
      ]
     },
     "metadata": {},
     "output_type": "display_data"
    },
    {
     "data": {
      "text/markdown": [
       "Mutants killed by all Mu2 and not any Zest:"
      ],
      "text/plain": [
       "<IPython.core.display.Markdown object>"
      ]
     },
     "metadata": {},
     "output_type": "display_data"
    },
    {
     "data": {
      "text/markdown": [
       "[Mutant com.google.gson.stream.JsonReader::I_SUB_TO_ADD::11 (JsonReader.java:L542)](https://github.com/google/gson/blob/gson-parent-2.8.9/gson/src/main/java/com/google/gson/stream/JsonReader.java#L542)"
      ],
      "text/plain": [
       "<IPython.core.display.Markdown object>"
      ]
     },
     "metadata": {},
     "output_type": "display_data"
    },
    {
     "data": {
      "text/markdown": [
       "**Mutant Comparison Table Zest vs Mu2Time**(same time): "
      ],
      "text/plain": [
       "<IPython.core.display.Markdown object>"
      ]
     },
     "metadata": {},
     "output_type": "display_data"
    },
    {
     "data": {
      "text/markdown": [
       "| Any Zest, No Mu2 | Any Mu2, No Zest | All Zest, No Mu2 | All Mu2, No Zest | \n",
       " | --- | --- | --- | --- | \n",
       " | 0 | 1 | 0 | 1 |"
      ],
      "text/plain": [
       "<IPython.core.display.Markdown object>"
      ]
     },
     "metadata": {},
     "output_type": "display_data"
    },
    {
     "data": {
      "text/markdown": [
       "Total seen mutants: 412"
      ],
      "text/plain": [
       "<IPython.core.display.Markdown object>"
      ]
     },
     "metadata": {},
     "output_type": "display_data"
    },
    {
     "data": {
      "text/markdown": [
       "Total killed mutants: 307"
      ],
      "text/plain": [
       "<IPython.core.display.Markdown object>"
      ]
     },
     "metadata": {},
     "output_type": "display_data"
    },
    {
     "data": {
      "text/markdown": [
       "**Mutant Comparison Table Zest\\* vs Mu2**(same trial): "
      ],
      "text/plain": [
       "<IPython.core.display.Markdown object>"
      ]
     },
     "metadata": {},
     "output_type": "display_data"
    },
    {
     "data": {
      "text/markdown": [
       "| Any Mu2, No Mu2NoSave | Any Mu2NoSave, No Mu2 | All Mu2, No Mu2NoSave | All Mu2NoSave, No Mu2 | \n",
       " | --- | --- | --- | --- | \n",
       " | 0 | 0 | 0 | 0 |"
      ],
      "text/plain": [
       "<IPython.core.display.Markdown object>"
      ]
     },
     "metadata": {},
     "output_type": "display_data"
    },
    {
     "data": {
      "text/markdown": [
       "## Jackson Mu2 Experiments"
      ],
      "text/plain": [
       "<IPython.core.display.Markdown object>"
      ]
     },
     "metadata": {},
     "output_type": "display_data"
    },
    {
     "data": {
      "text/markdown": [
       "T-test between Zest and Mu2 coverage: pvalue=0.000000"
      ],
      "text/plain": [
       "<IPython.core.display.Markdown object>"
      ]
     },
     "metadata": {},
     "output_type": "display_data"
    },
    {
     "data": {
      "text/markdown": [
       "T-test between Zest and Mu2 time constrained coverage: pvalue=0.000000"
      ],
      "text/plain": [
       "<IPython.core.display.Markdown object>"
      ]
     },
     "metadata": {},
     "output_type": "display_data"
    },
    {
     "data": {
      "text/markdown": [
       "T-test between Mu2 and Mu2NoSave coverage: pvalue=0.000000"
      ],
      "text/plain": [
       "<IPython.core.display.Markdown object>"
      ]
     },
     "metadata": {},
     "output_type": "display_data"
    },
    {
     "name": "stdout",
     "output_type": "stream",
     "text": [
      "Zest: 500.000000 +- 5.540758\n",
      "Mu2 (fixed trials): 521.800000 +- 3.969887\n",
      "Mu2 (fixed time): 514.900000 +- 5.038849\n"
     ]
    },
    {
     "data": {
      "text/markdown": [
       "**Mutant Comparison Table Zest vs Mu2**(same trials): "
      ],
      "text/plain": [
       "<IPython.core.display.Markdown object>"
      ]
     },
     "metadata": {},
     "output_type": "display_data"
    },
    {
     "data": {
      "text/markdown": [
       "Total seen mutants: 602"
      ],
      "text/plain": [
       "<IPython.core.display.Markdown object>"
      ]
     },
     "metadata": {},
     "output_type": "display_data"
    },
    {
     "data": {
      "text/markdown": [
       "Total killed mutants: 449"
      ],
      "text/plain": [
       "<IPython.core.display.Markdown object>"
      ]
     },
     "metadata": {},
     "output_type": "display_data"
    },
    {
     "data": {
      "text/markdown": [
       "| Any Zest, No Mu2 | Any Mu2, No Zest | All Zest, No Mu2 | All Mu2, No Zest | \n",
       " | --- | --- | --- | --- | \n",
       " | 0 | 49 | 0 | 25 |"
      ],
      "text/plain": [
       "<IPython.core.display.Markdown object>"
      ]
     },
     "metadata": {},
     "output_type": "display_data"
    },
    {
     "data": {
      "text/markdown": [
       "Mutants killed by any Zest and not any Mu2:"
      ],
      "text/plain": [
       "<IPython.core.display.Markdown object>"
      ]
     },
     "metadata": {},
     "output_type": "display_data"
    },
    {
     "data": {
      "text/markdown": [
       "Mutants killed by all Zest and not any Mu2:"
      ],
      "text/plain": [
       "<IPython.core.display.Markdown object>"
      ]
     },
     "metadata": {},
     "output_type": "display_data"
    },
    {
     "data": {
      "text/markdown": [
       "Mutants killed by any Mu2 and not any Zest:"
      ],
      "text/plain": [
       "<IPython.core.display.Markdown object>"
      ]
     },
     "metadata": {},
     "output_type": "display_data"
    },
    {
     "data": {
      "text/markdown": [
       "[Mutant com.fasterxml.jackson.core.json.ReaderBasedJsonParser::IF_EQ_TO_NE::25 (ReaderBasedJsonParser.java:L948)](https://github.com/FasterXML/jackson-core/blob/jackson-core-2.13.0/src/main/java/com/fasterxml/jackson/core/json/ReaderBasedJsonParser.java#L948)"
      ],
      "text/plain": [
       "<IPython.core.display.Markdown object>"
      ]
     },
     "metadata": {},
     "output_type": "display_data"
    },
    {
     "data": {
      "text/markdown": [
       "[Mutant com.fasterxml.jackson.core.json.ReaderBasedJsonParser::IF_EQ_TO_NE::42 (ReaderBasedJsonParser.java:L1855)](https://github.com/FasterXML/jackson-core/blob/jackson-core-2.13.0/src/main/java/com/fasterxml/jackson/core/json/ReaderBasedJsonParser.java#L1855)"
      ],
      "text/plain": [
       "<IPython.core.display.Markdown object>"
      ]
     },
     "metadata": {},
     "output_type": "display_data"
    },
    {
     "data": {
      "text/markdown": [
       "[Mutant com.fasterxml.jackson.core.json.ReaderBasedJsonParser::IF_EQ_TO_NE::55 (ReaderBasedJsonParser.java:L2302)](https://github.com/FasterXML/jackson-core/blob/jackson-core-2.13.0/src/main/java/com/fasterxml/jackson/core/json/ReaderBasedJsonParser.java#L2302)"
      ],
      "text/plain": [
       "<IPython.core.display.Markdown object>"
      ]
     },
     "metadata": {},
     "output_type": "display_data"
    },
    {
     "data": {
      "text/markdown": [
       "[Mutant com.fasterxml.jackson.core.json.ReaderBasedJsonParser::IF_EQ_TO_NE::59 (ReaderBasedJsonParser.java:L2418)](https://github.com/FasterXML/jackson-core/blob/jackson-core-2.13.0/src/main/java/com/fasterxml/jackson/core/json/ReaderBasedJsonParser.java#L2418)"
      ],
      "text/plain": [
       "<IPython.core.display.Markdown object>"
      ]
     },
     "metadata": {},
     "output_type": "display_data"
    },
    {
     "data": {
      "text/markdown": [
       "[Mutant com.fasterxml.jackson.core.json.ReaderBasedJsonParser::IF_EQ_TO_NE::60 (ReaderBasedJsonParser.java:L2504)](https://github.com/FasterXML/jackson-core/blob/jackson-core-2.13.0/src/main/java/com/fasterxml/jackson/core/json/ReaderBasedJsonParser.java#L2504)"
      ],
      "text/plain": [
       "<IPython.core.display.Markdown object>"
      ]
     },
     "metadata": {},
     "output_type": "display_data"
    },
    {
     "data": {
      "text/markdown": [
       "[Mutant com.fasterxml.jackson.core.json.ReaderBasedJsonParser::IF_EQ_TO_NE::63 (ReaderBasedJsonParser.java:L2728)](https://github.com/FasterXML/jackson-core/blob/jackson-core-2.13.0/src/main/java/com/fasterxml/jackson/core/json/ReaderBasedJsonParser.java#L2728)"
      ],
      "text/plain": [
       "<IPython.core.display.Markdown object>"
      ]
     },
     "metadata": {},
     "output_type": "display_data"
    },
    {
     "data": {
      "text/markdown": [
       "[Mutant com.fasterxml.jackson.core.json.ReaderBasedJsonParser::IF_ICMP_EQ_TO_NE::22 (ReaderBasedJsonParser.java:L2265)](https://github.com/FasterXML/jackson-core/blob/jackson-core-2.13.0/src/main/java/com/fasterxml/jackson/core/json/ReaderBasedJsonParser.java#L2265)"
      ],
      "text/plain": [
       "<IPython.core.display.Markdown object>"
      ]
     },
     "metadata": {},
     "output_type": "display_data"
    },
    {
     "data": {
      "text/markdown": [
       "[Mutant com.fasterxml.jackson.core.json.ReaderBasedJsonParser::IF_ICMP_GE_TO_LT::31 (ReaderBasedJsonParser.java:L2657)](https://github.com/FasterXML/jackson-core/blob/jackson-core-2.13.0/src/main/java/com/fasterxml/jackson/core/json/ReaderBasedJsonParser.java#L2657)"
      ],
      "text/plain": [
       "<IPython.core.display.Markdown object>"
      ]
     },
     "metadata": {},
     "output_type": "display_data"
    },
    {
     "data": {
      "text/markdown": [
       "[Mutant com.fasterxml.jackson.core.json.ReaderBasedJsonParser::IF_ICMP_GE_TO_LT::32 (ReaderBasedJsonParser.java:L2673)](https://github.com/FasterXML/jackson-core/blob/jackson-core-2.13.0/src/main/java/com/fasterxml/jackson/core/json/ReaderBasedJsonParser.java#L2673)"
      ],
      "text/plain": [
       "<IPython.core.display.Markdown object>"
      ]
     },
     "metadata": {},
     "output_type": "display_data"
    },
    {
     "data": {
      "text/markdown": [
       "[Mutant com.fasterxml.jackson.core.json.ReaderBasedJsonParser::IF_ICMP_GE_TO_LT::33 (ReaderBasedJsonParser.java:L2689)](https://github.com/FasterXML/jackson-core/blob/jackson-core-2.13.0/src/main/java/com/fasterxml/jackson/core/json/ReaderBasedJsonParser.java#L2689)"
      ],
      "text/plain": [
       "<IPython.core.display.Markdown object>"
      ]
     },
     "metadata": {},
     "output_type": "display_data"
    },
    {
     "data": {
      "text/markdown": [
       "[Mutant com.fasterxml.jackson.core.json.ReaderBasedJsonParser::IF_ICMP_LE_TO_LT::12 (ReaderBasedJsonParser.java:L2279)](https://github.com/FasterXML/jackson-core/blob/jackson-core-2.13.0/src/main/java/com/fasterxml/jackson/core/json/ReaderBasedJsonParser.java#L2279)"
      ],
      "text/plain": [
       "<IPython.core.display.Markdown object>"
      ]
     },
     "metadata": {},
     "output_type": "display_data"
    },
    {
     "data": {
      "text/markdown": [
       "[Mutant com.fasterxml.jackson.core.json.ReaderBasedJsonParser::IF_ICMP_LT_TO_GE::44 (ReaderBasedJsonParser.java:L2121)](https://github.com/FasterXML/jackson-core/blob/jackson-core-2.13.0/src/main/java/com/fasterxml/jackson/core/json/ReaderBasedJsonParser.java#L2121)"
      ],
      "text/plain": [
       "<IPython.core.display.Markdown object>"
      ]
     },
     "metadata": {},
     "output_type": "display_data"
    },
    {
     "data": {
      "text/markdown": [
       "[Mutant com.fasterxml.jackson.core.json.ReaderBasedJsonParser::IF_ICMP_LT_TO_GE::53 (ReaderBasedJsonParser.java:L2492)](https://github.com/FasterXML/jackson-core/blob/jackson-core-2.13.0/src/main/java/com/fasterxml/jackson/core/json/ReaderBasedJsonParser.java#L2492)"
      ],
      "text/plain": [
       "<IPython.core.display.Markdown object>"
      ]
     },
     "metadata": {},
     "output_type": "display_data"
    },
    {
     "data": {
      "text/markdown": [
       "[Mutant com.fasterxml.jackson.core.json.ReaderBasedJsonParser::IF_ICMP_LT_TO_LE::29 (ReaderBasedJsonParser.java:L1654)](https://github.com/FasterXML/jackson-core/blob/jackson-core-2.13.0/src/main/java/com/fasterxml/jackson/core/json/ReaderBasedJsonParser.java#L1654)"
      ],
      "text/plain": [
       "<IPython.core.display.Markdown object>"
      ]
     },
     "metadata": {},
     "output_type": "display_data"
    },
    {
     "data": {
      "text/markdown": [
       "[Mutant com.fasterxml.jackson.core.json.ReaderBasedJsonParser::IF_ICMP_LT_TO_LE::31 (ReaderBasedJsonParser.java:L1668)](https://github.com/FasterXML/jackson-core/blob/jackson-core-2.13.0/src/main/java/com/fasterxml/jackson/core/json/ReaderBasedJsonParser.java#L1668)"
      ],
      "text/plain": [
       "<IPython.core.display.Markdown object>"
      ]
     },
     "metadata": {},
     "output_type": "display_data"
    },
    {
     "data": {
      "text/markdown": [
       "[Mutant com.fasterxml.jackson.core.json.ReaderBasedJsonParser::IF_ICMP_LT_TO_LE::44 (ReaderBasedJsonParser.java:L2121)](https://github.com/FasterXML/jackson-core/blob/jackson-core-2.13.0/src/main/java/com/fasterxml/jackson/core/json/ReaderBasedJsonParser.java#L2121)"
      ],
      "text/plain": [
       "<IPython.core.display.Markdown object>"
      ]
     },
     "metadata": {},
     "output_type": "display_data"
    },
    {
     "data": {
      "text/markdown": [
       "[Mutant com.fasterxml.jackson.core.json.ReaderBasedJsonParser::IF_ICMP_LT_TO_LE::53 (ReaderBasedJsonParser.java:L2492)](https://github.com/FasterXML/jackson-core/blob/jackson-core-2.13.0/src/main/java/com/fasterxml/jackson/core/json/ReaderBasedJsonParser.java#L2492)"
      ],
      "text/plain": [
       "<IPython.core.display.Markdown object>"
      ]
     },
     "metadata": {},
     "output_type": "display_data"
    },
    {
     "data": {
      "text/markdown": [
       "[Mutant com.fasterxml.jackson.core.json.ReaderBasedJsonParser::IF_ICMP_LT_TO_LE::60 (ReaderBasedJsonParser.java:L2661)](https://github.com/FasterXML/jackson-core/blob/jackson-core-2.13.0/src/main/java/com/fasterxml/jackson/core/json/ReaderBasedJsonParser.java#L2661)"
      ],
      "text/plain": [
       "<IPython.core.display.Markdown object>"
      ]
     },
     "metadata": {},
     "output_type": "display_data"
    },
    {
     "data": {
      "text/markdown": [
       "[Mutant com.fasterxml.jackson.core.json.ReaderBasedJsonParser::IF_ICMP_LT_TO_LE::61 (ReaderBasedJsonParser.java:L2677)](https://github.com/FasterXML/jackson-core/blob/jackson-core-2.13.0/src/main/java/com/fasterxml/jackson/core/json/ReaderBasedJsonParser.java#L2677)"
      ],
      "text/plain": [
       "<IPython.core.display.Markdown object>"
      ]
     },
     "metadata": {},
     "output_type": "display_data"
    },
    {
     "data": {
      "text/markdown": [
       "[Mutant com.fasterxml.jackson.core.json.ReaderBasedJsonParser::IF_ICMP_LT_TO_LE::62 (ReaderBasedJsonParser.java:L2693)](https://github.com/FasterXML/jackson-core/blob/jackson-core-2.13.0/src/main/java/com/fasterxml/jackson/core/json/ReaderBasedJsonParser.java#L2693)"
      ],
      "text/plain": [
       "<IPython.core.display.Markdown object>"
      ]
     },
     "metadata": {},
     "output_type": "display_data"
    },
    {
     "data": {
      "text/markdown": [
       "[Mutant com.fasterxml.jackson.core.json.ReaderBasedJsonParser::IF_ICMP_LT_TO_LE::65 (ReaderBasedJsonParser.java:L2719)](https://github.com/FasterXML/jackson-core/blob/jackson-core-2.13.0/src/main/java/com/fasterxml/jackson/core/json/ReaderBasedJsonParser.java#L2719)"
      ],
      "text/plain": [
       "<IPython.core.display.Markdown object>"
      ]
     },
     "metadata": {},
     "output_type": "display_data"
    },
    {
     "data": {
      "text/markdown": [
       "[Mutant com.fasterxml.jackson.core.json.ReaderBasedJsonParser::IF_ICMP_LT_TO_LE::66 (ReaderBasedJsonParser.java:L2728)](https://github.com/FasterXML/jackson-core/blob/jackson-core-2.13.0/src/main/java/com/fasterxml/jackson/core/json/ReaderBasedJsonParser.java#L2728)"
      ],
      "text/plain": [
       "<IPython.core.display.Markdown object>"
      ]
     },
     "metadata": {},
     "output_type": "display_data"
    },
    {
     "data": {
      "text/markdown": [
       "[Mutant com.fasterxml.jackson.core.json.ReaderBasedJsonParser::IF_ICMP_LT_TO_LE::69 (ReaderBasedJsonParser.java:L2740)](https://github.com/FasterXML/jackson-core/blob/jackson-core-2.13.0/src/main/java/com/fasterxml/jackson/core/json/ReaderBasedJsonParser.java#L2740)"
      ],
      "text/plain": [
       "<IPython.core.display.Markdown object>"
      ]
     },
     "metadata": {},
     "output_type": "display_data"
    },
    {
     "data": {
      "text/markdown": [
       "[Mutant com.fasterxml.jackson.core.json.ReaderBasedJsonParser::IF_ICMP_NE_TO_EQ::102 (ReaderBasedJsonParser.java:L2691)](https://github.com/FasterXML/jackson-core/blob/jackson-core-2.13.0/src/main/java/com/fasterxml/jackson/core/json/ReaderBasedJsonParser.java#L2691)"
      ],
      "text/plain": [
       "<IPython.core.display.Markdown object>"
      ]
     },
     "metadata": {},
     "output_type": "display_data"
    },
    {
     "data": {
      "text/markdown": [
       "[Mutant com.fasterxml.jackson.core.json.ReaderBasedJsonParser::IF_ICMP_NE_TO_EQ::103 (ReaderBasedJsonParser.java:L2691)](https://github.com/FasterXML/jackson-core/blob/jackson-core-2.13.0/src/main/java/com/fasterxml/jackson/core/json/ReaderBasedJsonParser.java#L2691)"
      ],
      "text/plain": [
       "<IPython.core.display.Markdown object>"
      ]
     },
     "metadata": {},
     "output_type": "display_data"
    },
    {
     "data": {
      "text/markdown": [
       "[Mutant com.fasterxml.jackson.core.json.ReaderBasedJsonParser::IF_ICMP_NE_TO_EQ::27 (ReaderBasedJsonParser.java:L1470)](https://github.com/FasterXML/jackson-core/blob/jackson-core-2.13.0/src/main/java/com/fasterxml/jackson/core/json/ReaderBasedJsonParser.java#L1470)"
      ],
      "text/plain": [
       "<IPython.core.display.Markdown object>"
      ]
     },
     "metadata": {},
     "output_type": "display_data"
    },
    {
     "data": {
      "text/markdown": [
       "[Mutant com.fasterxml.jackson.core.json.ReaderBasedJsonParser::IF_ICMP_NE_TO_EQ::54 (ReaderBasedJsonParser.java:L2265)](https://github.com/FasterXML/jackson-core/blob/jackson-core-2.13.0/src/main/java/com/fasterxml/jackson/core/json/ReaderBasedJsonParser.java#L2265)"
      ],
      "text/plain": [
       "<IPython.core.display.Markdown object>"
      ]
     },
     "metadata": {},
     "output_type": "display_data"
    },
    {
     "data": {
      "text/markdown": [
       "[Mutant com.fasterxml.jackson.core.json.ReaderBasedJsonParser::IF_ICMP_NE_TO_EQ::93 (ReaderBasedJsonParser.java:L2659)](https://github.com/FasterXML/jackson-core/blob/jackson-core-2.13.0/src/main/java/com/fasterxml/jackson/core/json/ReaderBasedJsonParser.java#L2659)"
      ],
      "text/plain": [
       "<IPython.core.display.Markdown object>"
      ]
     },
     "metadata": {},
     "output_type": "display_data"
    },
    {
     "data": {
      "text/markdown": [
       "[Mutant com.fasterxml.jackson.core.json.ReaderBasedJsonParser::IF_ICMP_NE_TO_EQ::94 (ReaderBasedJsonParser.java:L2659)](https://github.com/FasterXML/jackson-core/blob/jackson-core-2.13.0/src/main/java/com/fasterxml/jackson/core/json/ReaderBasedJsonParser.java#L2659)"
      ],
      "text/plain": [
       "<IPython.core.display.Markdown object>"
      ]
     },
     "metadata": {},
     "output_type": "display_data"
    },
    {
     "data": {
      "text/markdown": [
       "[Mutant com.fasterxml.jackson.core.json.ReaderBasedJsonParser::IF_ICMP_NE_TO_EQ::97 (ReaderBasedJsonParser.java:L2675)](https://github.com/FasterXML/jackson-core/blob/jackson-core-2.13.0/src/main/java/com/fasterxml/jackson/core/json/ReaderBasedJsonParser.java#L2675)"
      ],
      "text/plain": [
       "<IPython.core.display.Markdown object>"
      ]
     },
     "metadata": {},
     "output_type": "display_data"
    },
    {
     "data": {
      "text/markdown": [
       "[Mutant com.fasterxml.jackson.core.json.ReaderBasedJsonParser::IF_ICMP_NE_TO_EQ::98 (ReaderBasedJsonParser.java:L2675)](https://github.com/FasterXML/jackson-core/blob/jackson-core-2.13.0/src/main/java/com/fasterxml/jackson/core/json/ReaderBasedJsonParser.java#L2675)"
      ],
      "text/plain": [
       "<IPython.core.display.Markdown object>"
      ]
     },
     "metadata": {},
     "output_type": "display_data"
    },
    {
     "data": {
      "text/markdown": [
       "[Mutant com.fasterxml.jackson.core.json.ReaderBasedJsonParser::IF_ICMP_NE_TO_EQ::99 (ReaderBasedJsonParser.java:L2675)](https://github.com/FasterXML/jackson-core/blob/jackson-core-2.13.0/src/main/java/com/fasterxml/jackson/core/json/ReaderBasedJsonParser.java#L2675)"
      ],
      "text/plain": [
       "<IPython.core.display.Markdown object>"
      ]
     },
     "metadata": {},
     "output_type": "display_data"
    },
    {
     "data": {
      "text/markdown": [
       "[Mutant com.fasterxml.jackson.core.json.ReaderBasedJsonParser::IF_NE_TO_EQ::11 (ReaderBasedJsonParser.java:L1308)](https://github.com/FasterXML/jackson-core/blob/jackson-core-2.13.0/src/main/java/com/fasterxml/jackson/core/json/ReaderBasedJsonParser.java#L1308)"
      ],
      "text/plain": [
       "<IPython.core.display.Markdown object>"
      ]
     },
     "metadata": {},
     "output_type": "display_data"
    },
    {
     "data": {
      "text/markdown": [
       "[Mutant com.fasterxml.jackson.core.json.ReaderBasedJsonParser::IF_NE_TO_EQ::25 (ReaderBasedJsonParser.java:L1859)](https://github.com/FasterXML/jackson-core/blob/jackson-core-2.13.0/src/main/java/com/fasterxml/jackson/core/json/ReaderBasedJsonParser.java#L1859)"
      ],
      "text/plain": [
       "<IPython.core.display.Markdown object>"
      ]
     },
     "metadata": {},
     "output_type": "display_data"
    },
    {
     "data": {
      "text/markdown": [
       "[Mutant com.fasterxml.jackson.core.json.ReaderBasedJsonParser::IF_NE_TO_EQ::37 (ReaderBasedJsonParser.java:L2443)](https://github.com/FasterXML/jackson-core/blob/jackson-core-2.13.0/src/main/java/com/fasterxml/jackson/core/json/ReaderBasedJsonParser.java#L2443)"
      ],
      "text/plain": [
       "<IPython.core.display.Markdown object>"
      ]
     },
     "metadata": {},
     "output_type": "display_data"
    },
    {
     "data": {
      "text/markdown": [
       "[Mutant com.fasterxml.jackson.core.json.ReaderBasedJsonParser::IF_NE_TO_EQ::39 (ReaderBasedJsonParser.java:L2524)](https://github.com/FasterXML/jackson-core/blob/jackson-core-2.13.0/src/main/java/com/fasterxml/jackson/core/json/ReaderBasedJsonParser.java#L2524)"
      ],
      "text/plain": [
       "<IPython.core.display.Markdown object>"
      ]
     },
     "metadata": {},
     "output_type": "display_data"
    },
    {
     "data": {
      "text/markdown": [
       "[Mutant com.fasterxml.jackson.core.json.ReaderBasedJsonParser::IF_NE_TO_EQ::42 (ReaderBasedJsonParser.java:L2574)](https://github.com/FasterXML/jackson-core/blob/jackson-core-2.13.0/src/main/java/com/fasterxml/jackson/core/json/ReaderBasedJsonParser.java#L2574)"
      ],
      "text/plain": [
       "<IPython.core.display.Markdown object>"
      ]
     },
     "metadata": {},
     "output_type": "display_data"
    },
    {
     "data": {
      "text/markdown": [
       "[Mutant com.fasterxml.jackson.core.json.ReaderBasedJsonParser::IF_NE_TO_EQ::45 (ReaderBasedJsonParser.java:L2736)](https://github.com/FasterXML/jackson-core/blob/jackson-core-2.13.0/src/main/java/com/fasterxml/jackson/core/json/ReaderBasedJsonParser.java#L2736)"
      ],
      "text/plain": [
       "<IPython.core.display.Markdown object>"
      ]
     },
     "metadata": {},
     "output_type": "display_data"
    },
    {
     "data": {
      "text/markdown": [
       "[Mutant com.fasterxml.jackson.core.json.ReaderBasedJsonParser::IRETURN_TO_TRUE::11 (ReaderBasedJsonParser.java:L2575)](https://github.com/FasterXML/jackson-core/blob/jackson-core-2.13.0/src/main/java/com/fasterxml/jackson/core/json/ReaderBasedJsonParser.java#L2575)"
      ],
      "text/plain": [
       "<IPython.core.display.Markdown object>"
      ]
     },
     "metadata": {},
     "output_type": "display_data"
    },
    {
     "data": {
      "text/markdown": [
       "[Mutant com.fasterxml.jackson.core.json.ReaderBasedJsonParser::I_ADD_TO_SUB::70 (ReaderBasedJsonParser.java:L2657)](https://github.com/FasterXML/jackson-core/blob/jackson-core-2.13.0/src/main/java/com/fasterxml/jackson/core/json/ReaderBasedJsonParser.java#L2657)"
      ],
      "text/plain": [
       "<IPython.core.display.Markdown object>"
      ]
     },
     "metadata": {},
     "output_type": "display_data"
    },
    {
     "data": {
      "text/markdown": [
       "[Mutant com.fasterxml.jackson.core.json.ReaderBasedJsonParser::I_ADD_TO_SUB::71 (ReaderBasedJsonParser.java:L2673)](https://github.com/FasterXML/jackson-core/blob/jackson-core-2.13.0/src/main/java/com/fasterxml/jackson/core/json/ReaderBasedJsonParser.java#L2673)"
      ],
      "text/plain": [
       "<IPython.core.display.Markdown object>"
      ]
     },
     "metadata": {},
     "output_type": "display_data"
    },
    {
     "data": {
      "text/markdown": [
       "[Mutant com.fasterxml.jackson.core.json.ReaderBasedJsonParser::I_ADD_TO_SUB::72 (ReaderBasedJsonParser.java:L2689)](https://github.com/FasterXML/jackson-core/blob/jackson-core-2.13.0/src/main/java/com/fasterxml/jackson/core/json/ReaderBasedJsonParser.java#L2689)"
      ],
      "text/plain": [
       "<IPython.core.display.Markdown object>"
      ]
     },
     "metadata": {},
     "output_type": "display_data"
    },
    {
     "data": {
      "text/markdown": [
       "[Mutant com.fasterxml.jackson.core.json.ReaderBasedJsonParser::I_AND_TO_OR::13 (ReaderBasedJsonParser.java:L2524)](https://github.com/FasterXML/jackson-core/blob/jackson-core-2.13.0/src/main/java/com/fasterxml/jackson/core/json/ReaderBasedJsonParser.java#L2524)"
      ],
      "text/plain": [
       "<IPython.core.display.Markdown object>"
      ]
     },
     "metadata": {},
     "output_type": "display_data"
    },
    {
     "data": {
      "text/markdown": [
       "[Mutant com.fasterxml.jackson.core.json.ReaderBasedJsonParser::I_AND_TO_OR::14 (ReaderBasedJsonParser.java:L2574)](https://github.com/FasterXML/jackson-core/blob/jackson-core-2.13.0/src/main/java/com/fasterxml/jackson/core/json/ReaderBasedJsonParser.java#L2574)"
      ],
      "text/plain": [
       "<IPython.core.display.Markdown object>"
      ]
     },
     "metadata": {},
     "output_type": "display_data"
    },
    {
     "data": {
      "text/markdown": [
       "[Mutant com.fasterxml.jackson.core.json.ReaderBasedJsonParser::I_AND_TO_OR::2 (ReaderBasedJsonParser.java:L948)](https://github.com/FasterXML/jackson-core/blob/jackson-core-2.13.0/src/main/java/com/fasterxml/jackson/core/json/ReaderBasedJsonParser.java#L948)"
      ],
      "text/plain": [
       "<IPython.core.display.Markdown object>"
      ]
     },
     "metadata": {},
     "output_type": "display_data"
    },
    {
     "data": {
      "text/markdown": [
       "[Mutant com.fasterxml.jackson.core.json.ReaderBasedJsonParser::I_AND_TO_OR::7 (ReaderBasedJsonParser.java:L1855)](https://github.com/FasterXML/jackson-core/blob/jackson-core-2.13.0/src/main/java/com/fasterxml/jackson/core/json/ReaderBasedJsonParser.java#L1855)"
      ],
      "text/plain": [
       "<IPython.core.display.Markdown object>"
      ]
     },
     "metadata": {},
     "output_type": "display_data"
    },
    {
     "data": {
      "text/markdown": [
       "[Mutant com.fasterxml.jackson.core.json.ReaderBasedJsonParser::I_AND_TO_OR::8 (ReaderBasedJsonParser.java:L1859)](https://github.com/FasterXML/jackson-core/blob/jackson-core-2.13.0/src/main/java/com/fasterxml/jackson/core/json/ReaderBasedJsonParser.java#L1859)"
      ],
      "text/plain": [
       "<IPython.core.display.Markdown object>"
      ]
     },
     "metadata": {},
     "output_type": "display_data"
    },
    {
     "data": {
      "text/markdown": [
       "[Mutant com.fasterxml.jackson.core.json.ReaderBasedJsonParser::I_SUB_TO_ADD::27 (ReaderBasedJsonParser.java:L2389)](https://github.com/FasterXML/jackson-core/blob/jackson-core-2.13.0/src/main/java/com/fasterxml/jackson/core/json/ReaderBasedJsonParser.java#L2389)"
      ],
      "text/plain": [
       "<IPython.core.display.Markdown object>"
      ]
     },
     "metadata": {},
     "output_type": "display_data"
    },
    {
     "data": {
      "text/markdown": [
       "[Mutant com.fasterxml.jackson.core.json.ReaderBasedJsonParser::I_SUB_TO_ADD::28 (ReaderBasedJsonParser.java:L2450)](https://github.com/FasterXML/jackson-core/blob/jackson-core-2.13.0/src/main/java/com/fasterxml/jackson/core/json/ReaderBasedJsonParser.java#L2450)"
      ],
      "text/plain": [
       "<IPython.core.display.Markdown object>"
      ]
     },
     "metadata": {},
     "output_type": "display_data"
    },
    {
     "data": {
      "text/markdown": [
       "Mutants killed by all Mu2 and not any Zest:"
      ],
      "text/plain": [
       "<IPython.core.display.Markdown object>"
      ]
     },
     "metadata": {},
     "output_type": "display_data"
    },
    {
     "data": {
      "text/markdown": [
       "[Mutant com.fasterxml.jackson.core.json.ReaderBasedJsonParser::IF_EQ_TO_NE::25 (ReaderBasedJsonParser.java:L948)](https://github.com/FasterXML/jackson-core/blob/jackson-core-2.13.0/src/main/java/com/fasterxml/jackson/core/json/ReaderBasedJsonParser.java#L948)"
      ],
      "text/plain": [
       "<IPython.core.display.Markdown object>"
      ]
     },
     "metadata": {},
     "output_type": "display_data"
    },
    {
     "data": {
      "text/markdown": [
       "[Mutant com.fasterxml.jackson.core.json.ReaderBasedJsonParser::IF_EQ_TO_NE::55 (ReaderBasedJsonParser.java:L2302)](https://github.com/FasterXML/jackson-core/blob/jackson-core-2.13.0/src/main/java/com/fasterxml/jackson/core/json/ReaderBasedJsonParser.java#L2302)"
      ],
      "text/plain": [
       "<IPython.core.display.Markdown object>"
      ]
     },
     "metadata": {},
     "output_type": "display_data"
    },
    {
     "data": {
      "text/markdown": [
       "[Mutant com.fasterxml.jackson.core.json.ReaderBasedJsonParser::IF_EQ_TO_NE::59 (ReaderBasedJsonParser.java:L2418)](https://github.com/FasterXML/jackson-core/blob/jackson-core-2.13.0/src/main/java/com/fasterxml/jackson/core/json/ReaderBasedJsonParser.java#L2418)"
      ],
      "text/plain": [
       "<IPython.core.display.Markdown object>"
      ]
     },
     "metadata": {},
     "output_type": "display_data"
    },
    {
     "data": {
      "text/markdown": [
       "[Mutant com.fasterxml.jackson.core.json.ReaderBasedJsonParser::IF_EQ_TO_NE::60 (ReaderBasedJsonParser.java:L2504)](https://github.com/FasterXML/jackson-core/blob/jackson-core-2.13.0/src/main/java/com/fasterxml/jackson/core/json/ReaderBasedJsonParser.java#L2504)"
      ],
      "text/plain": [
       "<IPython.core.display.Markdown object>"
      ]
     },
     "metadata": {},
     "output_type": "display_data"
    },
    {
     "data": {
      "text/markdown": [
       "[Mutant com.fasterxml.jackson.core.json.ReaderBasedJsonParser::IF_ICMP_EQ_TO_NE::22 (ReaderBasedJsonParser.java:L2265)](https://github.com/FasterXML/jackson-core/blob/jackson-core-2.13.0/src/main/java/com/fasterxml/jackson/core/json/ReaderBasedJsonParser.java#L2265)"
      ],
      "text/plain": [
       "<IPython.core.display.Markdown object>"
      ]
     },
     "metadata": {},
     "output_type": "display_data"
    },
    {
     "data": {
      "text/markdown": [
       "[Mutant com.fasterxml.jackson.core.json.ReaderBasedJsonParser::IF_ICMP_LT_TO_LE::29 (ReaderBasedJsonParser.java:L1654)](https://github.com/FasterXML/jackson-core/blob/jackson-core-2.13.0/src/main/java/com/fasterxml/jackson/core/json/ReaderBasedJsonParser.java#L1654)"
      ],
      "text/plain": [
       "<IPython.core.display.Markdown object>"
      ]
     },
     "metadata": {},
     "output_type": "display_data"
    },
    {
     "data": {
      "text/markdown": [
       "[Mutant com.fasterxml.jackson.core.json.ReaderBasedJsonParser::IF_ICMP_LT_TO_LE::31 (ReaderBasedJsonParser.java:L1668)](https://github.com/FasterXML/jackson-core/blob/jackson-core-2.13.0/src/main/java/com/fasterxml/jackson/core/json/ReaderBasedJsonParser.java#L1668)"
      ],
      "text/plain": [
       "<IPython.core.display.Markdown object>"
      ]
     },
     "metadata": {},
     "output_type": "display_data"
    },
    {
     "data": {
      "text/markdown": [
       "[Mutant com.fasterxml.jackson.core.json.ReaderBasedJsonParser::IF_ICMP_LT_TO_LE::60 (ReaderBasedJsonParser.java:L2661)](https://github.com/FasterXML/jackson-core/blob/jackson-core-2.13.0/src/main/java/com/fasterxml/jackson/core/json/ReaderBasedJsonParser.java#L2661)"
      ],
      "text/plain": [
       "<IPython.core.display.Markdown object>"
      ]
     },
     "metadata": {},
     "output_type": "display_data"
    },
    {
     "data": {
      "text/markdown": [
       "[Mutant com.fasterxml.jackson.core.json.ReaderBasedJsonParser::IF_ICMP_LT_TO_LE::65 (ReaderBasedJsonParser.java:L2719)](https://github.com/FasterXML/jackson-core/blob/jackson-core-2.13.0/src/main/java/com/fasterxml/jackson/core/json/ReaderBasedJsonParser.java#L2719)"
      ],
      "text/plain": [
       "<IPython.core.display.Markdown object>"
      ]
     },
     "metadata": {},
     "output_type": "display_data"
    },
    {
     "data": {
      "text/markdown": [
       "[Mutant com.fasterxml.jackson.core.json.ReaderBasedJsonParser::IF_ICMP_LT_TO_LE::69 (ReaderBasedJsonParser.java:L2740)](https://github.com/FasterXML/jackson-core/blob/jackson-core-2.13.0/src/main/java/com/fasterxml/jackson/core/json/ReaderBasedJsonParser.java#L2740)"
      ],
      "text/plain": [
       "<IPython.core.display.Markdown object>"
      ]
     },
     "metadata": {},
     "output_type": "display_data"
    },
    {
     "data": {
      "text/markdown": [
       "[Mutant com.fasterxml.jackson.core.json.ReaderBasedJsonParser::IF_ICMP_NE_TO_EQ::103 (ReaderBasedJsonParser.java:L2691)](https://github.com/FasterXML/jackson-core/blob/jackson-core-2.13.0/src/main/java/com/fasterxml/jackson/core/json/ReaderBasedJsonParser.java#L2691)"
      ],
      "text/plain": [
       "<IPython.core.display.Markdown object>"
      ]
     },
     "metadata": {},
     "output_type": "display_data"
    },
    {
     "data": {
      "text/markdown": [
       "[Mutant com.fasterxml.jackson.core.json.ReaderBasedJsonParser::IF_ICMP_NE_TO_EQ::27 (ReaderBasedJsonParser.java:L1470)](https://github.com/FasterXML/jackson-core/blob/jackson-core-2.13.0/src/main/java/com/fasterxml/jackson/core/json/ReaderBasedJsonParser.java#L1470)"
      ],
      "text/plain": [
       "<IPython.core.display.Markdown object>"
      ]
     },
     "metadata": {},
     "output_type": "display_data"
    },
    {
     "data": {
      "text/markdown": [
       "[Mutant com.fasterxml.jackson.core.json.ReaderBasedJsonParser::IF_ICMP_NE_TO_EQ::54 (ReaderBasedJsonParser.java:L2265)](https://github.com/FasterXML/jackson-core/blob/jackson-core-2.13.0/src/main/java/com/fasterxml/jackson/core/json/ReaderBasedJsonParser.java#L2265)"
      ],
      "text/plain": [
       "<IPython.core.display.Markdown object>"
      ]
     },
     "metadata": {},
     "output_type": "display_data"
    },
    {
     "data": {
      "text/markdown": [
       "[Mutant com.fasterxml.jackson.core.json.ReaderBasedJsonParser::IF_ICMP_NE_TO_EQ::93 (ReaderBasedJsonParser.java:L2659)](https://github.com/FasterXML/jackson-core/blob/jackson-core-2.13.0/src/main/java/com/fasterxml/jackson/core/json/ReaderBasedJsonParser.java#L2659)"
      ],
      "text/plain": [
       "<IPython.core.display.Markdown object>"
      ]
     },
     "metadata": {},
     "output_type": "display_data"
    },
    {
     "data": {
      "text/markdown": [
       "[Mutant com.fasterxml.jackson.core.json.ReaderBasedJsonParser::IF_ICMP_NE_TO_EQ::94 (ReaderBasedJsonParser.java:L2659)](https://github.com/FasterXML/jackson-core/blob/jackson-core-2.13.0/src/main/java/com/fasterxml/jackson/core/json/ReaderBasedJsonParser.java#L2659)"
      ],
      "text/plain": [
       "<IPython.core.display.Markdown object>"
      ]
     },
     "metadata": {},
     "output_type": "display_data"
    },
    {
     "data": {
      "text/markdown": [
       "[Mutant com.fasterxml.jackson.core.json.ReaderBasedJsonParser::IF_ICMP_NE_TO_EQ::99 (ReaderBasedJsonParser.java:L2675)](https://github.com/FasterXML/jackson-core/blob/jackson-core-2.13.0/src/main/java/com/fasterxml/jackson/core/json/ReaderBasedJsonParser.java#L2675)"
      ],
      "text/plain": [
       "<IPython.core.display.Markdown object>"
      ]
     },
     "metadata": {},
     "output_type": "display_data"
    },
    {
     "data": {
      "text/markdown": [
       "[Mutant com.fasterxml.jackson.core.json.ReaderBasedJsonParser::IF_NE_TO_EQ::11 (ReaderBasedJsonParser.java:L1308)](https://github.com/FasterXML/jackson-core/blob/jackson-core-2.13.0/src/main/java/com/fasterxml/jackson/core/json/ReaderBasedJsonParser.java#L1308)"
      ],
      "text/plain": [
       "<IPython.core.display.Markdown object>"
      ]
     },
     "metadata": {},
     "output_type": "display_data"
    },
    {
     "data": {
      "text/markdown": [
       "[Mutant com.fasterxml.jackson.core.json.ReaderBasedJsonParser::IF_NE_TO_EQ::25 (ReaderBasedJsonParser.java:L1859)](https://github.com/FasterXML/jackson-core/blob/jackson-core-2.13.0/src/main/java/com/fasterxml/jackson/core/json/ReaderBasedJsonParser.java#L1859)"
      ],
      "text/plain": [
       "<IPython.core.display.Markdown object>"
      ]
     },
     "metadata": {},
     "output_type": "display_data"
    },
    {
     "data": {
      "text/markdown": [
       "[Mutant com.fasterxml.jackson.core.json.ReaderBasedJsonParser::IF_NE_TO_EQ::42 (ReaderBasedJsonParser.java:L2574)](https://github.com/FasterXML/jackson-core/blob/jackson-core-2.13.0/src/main/java/com/fasterxml/jackson/core/json/ReaderBasedJsonParser.java#L2574)"
      ],
      "text/plain": [
       "<IPython.core.display.Markdown object>"
      ]
     },
     "metadata": {},
     "output_type": "display_data"
    },
    {
     "data": {
      "text/markdown": [
       "[Mutant com.fasterxml.jackson.core.json.ReaderBasedJsonParser::IRETURN_TO_TRUE::11 (ReaderBasedJsonParser.java:L2575)](https://github.com/FasterXML/jackson-core/blob/jackson-core-2.13.0/src/main/java/com/fasterxml/jackson/core/json/ReaderBasedJsonParser.java#L2575)"
      ],
      "text/plain": [
       "<IPython.core.display.Markdown object>"
      ]
     },
     "metadata": {},
     "output_type": "display_data"
    },
    {
     "data": {
      "text/markdown": [
       "[Mutant com.fasterxml.jackson.core.json.ReaderBasedJsonParser::I_AND_TO_OR::14 (ReaderBasedJsonParser.java:L2574)](https://github.com/FasterXML/jackson-core/blob/jackson-core-2.13.0/src/main/java/com/fasterxml/jackson/core/json/ReaderBasedJsonParser.java#L2574)"
      ],
      "text/plain": [
       "<IPython.core.display.Markdown object>"
      ]
     },
     "metadata": {},
     "output_type": "display_data"
    },
    {
     "data": {
      "text/markdown": [
       "[Mutant com.fasterxml.jackson.core.json.ReaderBasedJsonParser::I_AND_TO_OR::2 (ReaderBasedJsonParser.java:L948)](https://github.com/FasterXML/jackson-core/blob/jackson-core-2.13.0/src/main/java/com/fasterxml/jackson/core/json/ReaderBasedJsonParser.java#L948)"
      ],
      "text/plain": [
       "<IPython.core.display.Markdown object>"
      ]
     },
     "metadata": {},
     "output_type": "display_data"
    },
    {
     "data": {
      "text/markdown": [
       "[Mutant com.fasterxml.jackson.core.json.ReaderBasedJsonParser::I_AND_TO_OR::8 (ReaderBasedJsonParser.java:L1859)](https://github.com/FasterXML/jackson-core/blob/jackson-core-2.13.0/src/main/java/com/fasterxml/jackson/core/json/ReaderBasedJsonParser.java#L1859)"
      ],
      "text/plain": [
       "<IPython.core.display.Markdown object>"
      ]
     },
     "metadata": {},
     "output_type": "display_data"
    },
    {
     "data": {
      "text/markdown": [
       "[Mutant com.fasterxml.jackson.core.json.ReaderBasedJsonParser::I_SUB_TO_ADD::27 (ReaderBasedJsonParser.java:L2389)](https://github.com/FasterXML/jackson-core/blob/jackson-core-2.13.0/src/main/java/com/fasterxml/jackson/core/json/ReaderBasedJsonParser.java#L2389)"
      ],
      "text/plain": [
       "<IPython.core.display.Markdown object>"
      ]
     },
     "metadata": {},
     "output_type": "display_data"
    },
    {
     "data": {
      "text/markdown": [
       "[Mutant com.fasterxml.jackson.core.json.ReaderBasedJsonParser::I_SUB_TO_ADD::28 (ReaderBasedJsonParser.java:L2450)](https://github.com/FasterXML/jackson-core/blob/jackson-core-2.13.0/src/main/java/com/fasterxml/jackson/core/json/ReaderBasedJsonParser.java#L2450)"
      ],
      "text/plain": [
       "<IPython.core.display.Markdown object>"
      ]
     },
     "metadata": {},
     "output_type": "display_data"
    },
    {
     "data": {
      "text/markdown": [
       "**Mutant Comparison Table Zest vs Mu2Time**(same time): "
      ],
      "text/plain": [
       "<IPython.core.display.Markdown object>"
      ]
     },
     "metadata": {},
     "output_type": "display_data"
    },
    {
     "data": {
      "text/markdown": [
       "| Any Zest, No Mu2 | Any Mu2, No Zest | All Zest, No Mu2 | All Mu2, No Zest | \n",
       " | --- | --- | --- | --- | \n",
       " | 1 | 49 | 0 | 22 |"
      ],
      "text/plain": [
       "<IPython.core.display.Markdown object>"
      ]
     },
     "metadata": {},
     "output_type": "display_data"
    },
    {
     "data": {
      "text/markdown": [
       "Total seen mutants: 602"
      ],
      "text/plain": [
       "<IPython.core.display.Markdown object>"
      ]
     },
     "metadata": {},
     "output_type": "display_data"
    },
    {
     "data": {
      "text/markdown": [
       "Total killed mutants: 449"
      ],
      "text/plain": [
       "<IPython.core.display.Markdown object>"
      ]
     },
     "metadata": {},
     "output_type": "display_data"
    },
    {
     "data": {
      "text/markdown": [
       "**Mutant Comparison Table Zest\\* vs Mu2**(same trial): "
      ],
      "text/plain": [
       "<IPython.core.display.Markdown object>"
      ]
     },
     "metadata": {},
     "output_type": "display_data"
    },
    {
     "data": {
      "text/markdown": [
       "| Any Mu2, No Mu2NoSave | Any Mu2NoSave, No Mu2 | All Mu2, No Mu2NoSave | All Mu2NoSave, No Mu2 | \n",
       " | --- | --- | --- | --- | \n",
       " | 0 | 0 | 0 | 0 |"
      ],
      "text/plain": [
       "<IPython.core.display.Markdown object>"
      ]
     },
     "metadata": {},
     "output_type": "display_data"
    },
    {
     "data": {
      "text/markdown": [
       "## Tomcat Mu2 Experiments"
      ],
      "text/plain": [
       "<IPython.core.display.Markdown object>"
      ]
     },
     "metadata": {},
     "output_type": "display_data"
    },
    {
     "data": {
      "text/markdown": [
       "T-test between Zest and Mu2 coverage: pvalue=0.515574"
      ],
      "text/plain": [
       "<IPython.core.display.Markdown object>"
      ]
     },
     "metadata": {},
     "output_type": "display_data"
    },
    {
     "data": {
      "text/markdown": [
       "T-test between Zest and Mu2 time constrained coverage: pvalue=0.001950"
      ],
      "text/plain": [
       "<IPython.core.display.Markdown object>"
      ]
     },
     "metadata": {},
     "output_type": "display_data"
    },
    {
     "data": {
      "text/markdown": [
       "T-test between Mu2 and Mu2NoSave coverage: pvalue=0.936489"
      ],
      "text/plain": [
       "<IPython.core.display.Markdown object>"
      ]
     },
     "metadata": {},
     "output_type": "display_data"
    },
    {
     "name": "stdout",
     "output_type": "stream",
     "text": [
      "Zest: 359.300000 +- 8.911229\n",
      "Mu2 (fixed trials): 356.100000 +- 11.405700\n",
      "Mu2 (fixed time): 341.200000 +- 12.056533\n"
     ]
    },
    {
     "data": {
      "text/markdown": [
       "**Mutant Comparison Table Zest vs Mu2**(same trials): "
      ],
      "text/plain": [
       "<IPython.core.display.Markdown object>"
      ]
     },
     "metadata": {},
     "output_type": "display_data"
    },
    {
     "data": {
      "text/markdown": [
       "Total seen mutants: 389"
      ],
      "text/plain": [
       "<IPython.core.display.Markdown object>"
      ]
     },
     "metadata": {},
     "output_type": "display_data"
    },
    {
     "data": {
      "text/markdown": [
       "Total killed mutants: 252"
      ],
      "text/plain": [
       "<IPython.core.display.Markdown object>"
      ]
     },
     "metadata": {},
     "output_type": "display_data"
    },
    {
     "data": {
      "text/markdown": [
       "| Any Zest, No Mu2 | Any Mu2, No Zest | All Zest, No Mu2 | All Mu2, No Zest | \n",
       " | --- | --- | --- | --- | \n",
       " | 0 | 0 | 0 | 0 |"
      ],
      "text/plain": [
       "<IPython.core.display.Markdown object>"
      ]
     },
     "metadata": {},
     "output_type": "display_data"
    },
    {
     "data": {
      "text/markdown": [
       "Mutants killed by any Zest and not any Mu2:"
      ],
      "text/plain": [
       "<IPython.core.display.Markdown object>"
      ]
     },
     "metadata": {},
     "output_type": "display_data"
    },
    {
     "data": {
      "text/markdown": [
       "Mutants killed by all Zest and not any Mu2:"
      ],
      "text/plain": [
       "<IPython.core.display.Markdown object>"
      ]
     },
     "metadata": {},
     "output_type": "display_data"
    },
    {
     "data": {
      "text/markdown": [
       "Mutants killed by any Mu2 and not any Zest:"
      ],
      "text/plain": [
       "<IPython.core.display.Markdown object>"
      ]
     },
     "metadata": {},
     "output_type": "display_data"
    },
    {
     "data": {
      "text/markdown": [
       "Mutants killed by all Mu2 and not any Zest:"
      ],
      "text/plain": [
       "<IPython.core.display.Markdown object>"
      ]
     },
     "metadata": {},
     "output_type": "display_data"
    },
    {
     "data": {
      "text/markdown": [
       "**Mutant Comparison Table Zest vs Mu2Time**(same time): "
      ],
      "text/plain": [
       "<IPython.core.display.Markdown object>"
      ]
     },
     "metadata": {},
     "output_type": "display_data"
    },
    {
     "data": {
      "text/markdown": [
       "| Any Zest, No Mu2 | Any Mu2, No Zest | All Zest, No Mu2 | All Mu2, No Zest | \n",
       " | --- | --- | --- | --- | \n",
       " | 0 | 0 | 0 | 0 |"
      ],
      "text/plain": [
       "<IPython.core.display.Markdown object>"
      ]
     },
     "metadata": {},
     "output_type": "display_data"
    },
    {
     "data": {
      "text/markdown": [
       "Total seen mutants: 389"
      ],
      "text/plain": [
       "<IPython.core.display.Markdown object>"
      ]
     },
     "metadata": {},
     "output_type": "display_data"
    },
    {
     "data": {
      "text/markdown": [
       "Total killed mutants: 252"
      ],
      "text/plain": [
       "<IPython.core.display.Markdown object>"
      ]
     },
     "metadata": {},
     "output_type": "display_data"
    },
    {
     "data": {
      "text/markdown": [
       "**Mutant Comparison Table Zest\\* vs Mu2**(same trial): "
      ],
      "text/plain": [
       "<IPython.core.display.Markdown object>"
      ]
     },
     "metadata": {},
     "output_type": "display_data"
    },
    {
     "data": {
      "text/markdown": [
       "| Any Mu2, No Mu2NoSave | Any Mu2NoSave, No Mu2 | All Mu2, No Mu2NoSave | All Mu2NoSave, No Mu2 | \n",
       " | --- | --- | --- | --- | \n",
       " | 0 | 0 | 0 | 0 |"
      ],
      "text/plain": [
       "<IPython.core.display.Markdown object>"
      ]
     },
     "metadata": {},
     "output_type": "display_data"
    },
    {
     "data": {
      "text/markdown": [
       "## Closure Mu2 Experiments"
      ],
      "text/plain": [
       "<IPython.core.display.Markdown object>"
      ]
     },
     "metadata": {},
     "output_type": "display_data"
    },
    {
     "data": {
      "text/markdown": [
       "T-test between Zest and Mu2 coverage: pvalue=0.692549"
      ],
      "text/plain": [
       "<IPython.core.display.Markdown object>"
      ]
     },
     "metadata": {},
     "output_type": "display_data"
    },
    {
     "data": {
      "text/markdown": [
       "T-test between Zest and Mu2 time constrained coverage: pvalue=0.000000"
      ],
      "text/plain": [
       "<IPython.core.display.Markdown object>"
      ]
     },
     "metadata": {},
     "output_type": "display_data"
    },
    {
     "data": {
      "text/markdown": [
       "T-test between Mu2 and Mu2NoSave coverage: pvalue=0.722814"
      ],
      "text/plain": [
       "<IPython.core.display.Markdown object>"
      ]
     },
     "metadata": {},
     "output_type": "display_data"
    },
    {
     "name": "stdout",
     "output_type": "stream",
     "text": [
      "Zest: 10022.000000 +- 185.679293\n",
      "Mu2 (fixed trials): 10055.100000 +- 163.079398\n",
      "Mu2 (fixed time): 7948.900000 +- 116.819048\n"
     ]
    },
    {
     "data": {
      "text/markdown": [
       "**Mutant Comparison Table Zest vs Mu2**(same trials): "
      ],
      "text/plain": [
       "<IPython.core.display.Markdown object>"
      ]
     },
     "metadata": {},
     "output_type": "display_data"
    },
    {
     "data": {
      "text/markdown": [
       "Total seen mutants: 503"
      ],
      "text/plain": [
       "<IPython.core.display.Markdown object>"
      ]
     },
     "metadata": {},
     "output_type": "display_data"
    },
    {
     "data": {
      "text/markdown": [
       "Total killed mutants: 249"
      ],
      "text/plain": [
       "<IPython.core.display.Markdown object>"
      ]
     },
     "metadata": {},
     "output_type": "display_data"
    },
    {
     "data": {
      "text/markdown": [
       "| Any Zest, No Mu2 | Any Mu2, No Zest | All Zest, No Mu2 | All Mu2, No Zest | \n",
       " | --- | --- | --- | --- | \n",
       " | 1 | 3 | 0 | 0 |"
      ],
      "text/plain": [
       "<IPython.core.display.Markdown object>"
      ]
     },
     "metadata": {},
     "output_type": "display_data"
    },
    {
     "data": {
      "text/markdown": [
       "Mutants killed by any Zest and not any Mu2:"
      ],
      "text/plain": [
       "<IPython.core.display.Markdown object>"
      ]
     },
     "metadata": {},
     "output_type": "display_data"
    },
    {
     "data": {
      "text/markdown": [
       "[Mutant com.google.javascript.jscomp.Compiler$CodeBuilder::I_ADD_TO_SUB::0 (Compiler.java:L2522)](https://github.com/google/closure-compiler/blob/v20220202/src/com/google/javascript/jscomp/Compiler.java#L2522)"
      ],
      "text/plain": [
       "<IPython.core.display.Markdown object>"
      ]
     },
     "metadata": {},
     "output_type": "display_data"
    },
    {
     "data": {
      "text/markdown": [
       "Mutants killed by all Zest and not any Mu2:"
      ],
      "text/plain": [
       "<IPython.core.display.Markdown object>"
      ]
     },
     "metadata": {},
     "output_type": "display_data"
    },
    {
     "data": {
      "text/markdown": [
       "Mutants killed by any Mu2 and not any Zest:"
      ],
      "text/plain": [
       "<IPython.core.display.Markdown object>"
      ]
     },
     "metadata": {},
     "output_type": "display_data"
    },
    {
     "data": {
      "text/markdown": [
       "[Mutant com.google.javascript.jscomp.Compiler::ARETURN_TO_NULL::158 (Compiler.java:L1511)](https://github.com/google/closure-compiler/blob/v20220202/src/com/google/javascript/jscomp/Compiler.java#L1511)"
      ],
      "text/plain": [
       "<IPython.core.display.Markdown object>"
      ]
     },
     "metadata": {},
     "output_type": "display_data"
    },
    {
     "data": {
      "text/markdown": [
       "[Mutant com.google.javascript.jscomp.Compiler::I_IRETURN_TO_0::0 (Compiler.java:L1491)](https://github.com/google/closure-compiler/blob/v20220202/src/com/google/javascript/jscomp/Compiler.java#L1491)"
      ],
      "text/plain": [
       "<IPython.core.display.Markdown object>"
      ]
     },
     "metadata": {},
     "output_type": "display_data"
    },
    {
     "data": {
      "text/markdown": [
       "[Mutant com.google.javascript.jscomp.Compiler::STR_ARETURN_TO_EMPTY::18 (Compiler.java:L1511)](https://github.com/google/closure-compiler/blob/v20220202/src/com/google/javascript/jscomp/Compiler.java#L1511)"
      ],
      "text/plain": [
       "<IPython.core.display.Markdown object>"
      ]
     },
     "metadata": {},
     "output_type": "display_data"
    },
    {
     "data": {
      "text/markdown": [
       "Mutants killed by all Mu2 and not any Zest:"
      ],
      "text/plain": [
       "<IPython.core.display.Markdown object>"
      ]
     },
     "metadata": {},
     "output_type": "display_data"
    },
    {
     "data": {
      "text/markdown": [
       "**Mutant Comparison Table Zest vs Mu2Time**(same time): "
      ],
      "text/plain": [
       "<IPython.core.display.Markdown object>"
      ]
     },
     "metadata": {},
     "output_type": "display_data"
    },
    {
     "data": {
      "text/markdown": [
       "| Any Zest, No Mu2 | Any Mu2, No Zest | All Zest, No Mu2 | All Mu2, No Zest | \n",
       " | --- | --- | --- | --- | \n",
       " | 9 | 0 | 0 | 0 |"
      ],
      "text/plain": [
       "<IPython.core.display.Markdown object>"
      ]
     },
     "metadata": {},
     "output_type": "display_data"
    },
    {
     "data": {
      "text/markdown": [
       "Total seen mutants: 503"
      ],
      "text/plain": [
       "<IPython.core.display.Markdown object>"
      ]
     },
     "metadata": {},
     "output_type": "display_data"
    },
    {
     "data": {
      "text/markdown": [
       "Total killed mutants: 246"
      ],
      "text/plain": [
       "<IPython.core.display.Markdown object>"
      ]
     },
     "metadata": {},
     "output_type": "display_data"
    },
    {
     "data": {
      "text/markdown": [
       "**Mutant Comparison Table Zest\\* vs Mu2**(same trial): "
      ],
      "text/plain": [
       "<IPython.core.display.Markdown object>"
      ]
     },
     "metadata": {},
     "output_type": "display_data"
    },
    {
     "data": {
      "text/markdown": [
       "| Any Mu2, No Mu2NoSave | Any Mu2NoSave, No Mu2 | All Mu2, No Mu2NoSave | All Mu2NoSave, No Mu2 | \n",
       " | --- | --- | --- | --- | \n",
       " | 0 | 1 | 0 | 0 |"
      ],
      "text/plain": [
       "<IPython.core.display.Markdown object>"
      ]
     },
     "metadata": {},
     "output_type": "display_data"
    }
   ],
   "source": [
    "results_dir = \"/home/vasumv/mu2_results/three_hours\"\n",
    "cov_dfs = []\n",
    "\n",
    "display_markdown(\"# Mu2 Three Hour Experiments\")\n",
    "cov_dfs.append(display_benchmark(\"ChocoPy\", os.path.join(results_dir, \"filters/ChocoPy-filters/\"), \n",
    "                           os.path.join(results_dir, \"fuzz-results/ChocoPy-fuzz-results/\"),\n",
    "                           os.path.join(results_dir, \"coverage/ChocoPy-coverage/\"),\n",
    "                           \"https://github.com/chocopy/chocopy/tree/master/src/main/java/chocopy/reference/semantic/\", \n",
    "                           20))\n",
    "cov_dfs.append(display_benchmark(\"Gson\", os.path.join(results_dir, \"filters/gson-filters/\"),\n",
    "                           os.path.join(results_dir, \"fuzz-results/gson-fuzz-results/\"),\n",
    "                           os.path.join(results_dir, \"coverage/gson-coverage/\"),\n",
    "                           \"https://github.com/google/gson/blob/gson-parent-2.8.9/gson/src/main/java/com/google/gson/stream/\", \n",
    "                           20))\n",
    "cov_dfs.append(display_benchmark(\"Jackson\", os.path.join(results_dir, \"filters/jacksonjson-filters/\"),\n",
    "                           os.path.join(results_dir, \"fuzz-results/jacksonjson-fuzz-results/\"),\n",
    "                           os.path.join(results_dir, \"coverage/jacksonjson-coverage/\"),\n",
    "                           \"https://github.com/FasterXML/jackson-core/blob/jackson-core-2.13.0/src/main/java/com/fasterxml/jackson/core/json/\", 20))\n",
    "cov_dfs.append(display_benchmark(\"Tomcat\", os.path.join(results_dir, \"filters/apachetomcat-filters/\"),\n",
    "                           os.path.join(results_dir, \"fuzz-results/apachetomcat-fuzz-results/\"),\n",
    "                           os.path.join(results_dir, \"coverage/apachetomcat-coverage/\"),\n",
    "                           \"https://github.com/FasterXML/jackson-core/blob/jackson-core-2.13.0/src/main/java/com/fasterxml/jackson/core/json/\", 10))\n",
    "cov_dfs.append(display_benchmark(\"Closure\", os.path.join(results_dir, \"filters/closure-filters/\"),\n",
    "                           os.path.join(results_dir, \"fuzz-results/closure-fuzz-results/\"),\n",
    "                           os.path.join(results_dir, \"coverage/closure-coverage/\"),\n",
    "                           \"https://github.com/google/closure-compiler/blob/v20220202/src/com/google/javascript/jscomp/\", 10))"
   ]
  },
  {
   "cell_type": "code",
   "execution_count": null,
   "id": "f02759d9-e01b-430b-8793-866ae12f77e5",
   "metadata": {},
   "outputs": [],
   "source": []
  },
  {
   "cell_type": "code",
   "execution_count": 5,
   "id": "59a8c444-eee6-479c-bbf8-3f128dac0d8c",
   "metadata": {},
   "outputs": [
    {
     "ename": "NameError",
     "evalue": "name 'total_cov_df' is not defined",
     "output_type": "error",
     "traceback": [
      "\u001b[0;31m---------------------------------------------------------------------------\u001b[0m",
      "\u001b[0;31mNameError\u001b[0m                                 Traceback (most recent call last)",
      "Input \u001b[0;32mIn [5]\u001b[0m, in \u001b[0;36m<module>\u001b[0;34m\u001b[0m\n\u001b[1;32m      1\u001b[0m \u001b[38;5;28;01mimport\u001b[39;00m \u001b[38;5;21;01mitertools\u001b[39;00m\n\u001b[0;32m----> 2\u001b[0m normalized_cov \u001b[38;5;241m=\u001b[39m \u001b[43mtotal_cov_df\u001b[49m\u001b[38;5;241m.\u001b[39mcopy()\n\u001b[1;32m      3\u001b[0m zest_cov \u001b[38;5;241m=\u001b[39m total_cov_df[total_cov_df[\u001b[38;5;124m\"\u001b[39m\u001b[38;5;124mTechnique\u001b[39m\u001b[38;5;124m\"\u001b[39m] \u001b[38;5;241m==\u001b[39m \u001b[38;5;124m\"\u001b[39m\u001b[38;5;124mZest\u001b[39m\u001b[38;5;124m\"\u001b[39m]\n\u001b[1;32m      4\u001b[0m denom \u001b[38;5;241m=\u001b[39m []\n",
      "\u001b[0;31mNameError\u001b[0m: name 'total_cov_df' is not defined"
     ]
    }
   ],
   "source": [
    "import itertools\n",
    "normalized_cov = total_cov_df.copy()\n",
    "zest_cov = total_cov_df[total_cov_df[\"Technique\"] == \"Zest\"]\n",
    "denom = []\n",
    "\n",
    "def normalize(x, denom):\n",
    "    return x / denom \n",
    "\n",
    "for i, target in enumerate(COVERAGE_MAP):\n",
    "    normalized = zest_cov[zest_cov[\"Target\"] == target][\"Coverage\"].mean()\n",
    "    denom.append(normalized)\n",
    "    normalized_cov[\"Coverage\"] = normalized_cov.apply(lambda row: normalize(row[\"Coverage\"], normalized) if row[\"Target\"] == target else row[\"Coverage\"], axis=1)\n",
    "    normalized_cov[\"Target\"] = normalized_cov[\"Target\"].apply(lambda x: \"%s\\n(%d)\" % (x, round(denom[i])) if x == target else x)\n",
    "\n",
    "fig = plt.figure()\n",
    "sns.set(font_scale=1.3)\n",
    "ax = sns.barplot(data=normalized_cov, x=\"Target\", y=\"Coverage\", hue=\"Technique\")\n",
    "ax.set_title(\"Branch Coverage\")\n",
    "ax.set_ylabel(\"Coverage Relative to Zest\")\n",
    "hatches = itertools.cycle([' ', '//', '+'])\n",
    "for i, bar in enumerate(ax.patches):\n",
    "    if i % 5 == 0:\n",
    "        hatch = next(hatches)\n",
    "        bar.set_hatch(hatch)\n",
    "    bar.set_hatch(hatch)\n",
    "    \n",
    "sns.set(font_scale=1.3)\n",
    "ax.legend(fancybox=True, shadow=True)\n",
    "\n",
    "def show_values_on_bars(axs):\n",
    "    def _show_on_single_plot(ax):        \n",
    "        for i in range(len(ax.patches)):\n",
    "            p = ax.patches[i]\n",
    "            if i < 5:\n",
    "                _x = p.get_x() + p.get_width() / 2\n",
    "                _y = p.get_y() + p.get_height() + 0.03\n",
    "                value = '{:.2f}'.format(p.get_height())\n",
    "                ax.text(_x, _y, denom[i], ha=\"center\") \n",
    "\n",
    "    if isinstance(axs, np.ndarray):\n",
    "        for idx, ax in np.ndenumerate(axs):\n",
    "            _show_on_single_plot(ax)\n",
    "    else:\n",
    "        _show_on_single_plot(axs)\n",
    "sns.set(font_scale=0.8)\n",
    "\n",
    "fig.savefig(\"branch_cov.pdf\", bbox_inches='tight')"
   ]
  },
  {
   "cell_type": "code",
   "execution_count": null,
   "id": "0a4a4d67-356e-4a97-b052-5a8df58702a4",
   "metadata": {},
   "outputs": [],
   "source": [
    "zest_cov = total_cov_df[total_cov_df[\"Technique\"] == \"Zest\"]\n",
    "for target in COVERAGE_MAP:\n",
    "    print(zest_cov[zest_cov[\"Target\"] == target][\"Coverage\"].mean())"
   ]
  },
  {
   "cell_type": "code",
   "execution_count": null,
   "id": "7c46de82-0831-4596-b6af-f6ed1ed811d7",
   "metadata": {},
   "outputs": [],
   "source": []
  },
  {
   "cell_type": "code",
   "execution_count": null,
   "id": "2fa6d709-0c67-44d3-a992-6e4f72036991",
   "metadata": {},
   "outputs": [],
   "source": []
  },
  {
   "cell_type": "code",
   "execution_count": null,
   "id": "8295006c-5b35-40fd-966f-396f4969d38d",
   "metadata": {},
   "outputs": [],
   "source": []
  },
  {
   "cell_type": "code",
   "execution_count": null,
   "id": "80289375-1656-447c-adea-740a4a23c239",
   "metadata": {},
   "outputs": [],
   "source": []
  },
  {
   "cell_type": "code",
   "execution_count": null,
   "id": "4086abcb-c82d-463f-8f1c-52eaaebfcd3f",
   "metadata": {},
   "outputs": [],
   "source": []
  },
  {
   "cell_type": "code",
   "execution_count": null,
   "id": "a5ca131b-32e5-40b1-a517-d666204a5a4b",
   "metadata": {},
   "outputs": [],
   "source": []
  },
  {
   "cell_type": "code",
   "execution_count": null,
   "id": "d7d0d8e2-bc2f-4f11-bd32-7b1548ca225a",
   "metadata": {},
   "outputs": [],
   "source": []
  },
  {
   "cell_type": "code",
   "execution_count": null,
   "id": "94d77096-e2b0-4640-8f3b-570bc07e52a3",
   "metadata": {},
   "outputs": [],
   "source": []
  },
  {
   "cell_type": "code",
   "execution_count": null,
   "id": "013cff3c-ed0b-4f00-9dbc-2bbc45a8ccc2",
   "metadata": {},
   "outputs": [],
   "source": []
  }
 ],
 "metadata": {
  "kernelspec": {
   "display_name": "venv",
   "language": "python",
   "name": "venv"
  },
  "language_info": {
   "codemirror_mode": {
    "name": "ipython",
    "version": 3
   },
   "file_extension": ".py",
   "mimetype": "text/x-python",
   "name": "python",
   "nbconvert_exporter": "python",
   "pygments_lexer": "ipython3",
   "version": "3.8.10"
  }
 },
 "nbformat": 4,
 "nbformat_minor": 5
}
